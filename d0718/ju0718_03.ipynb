{
 "cells": [
  {
   "cell_type": "code",
   "execution_count": 13,
   "metadata": {},
   "outputs": [
    {
     "name": "stdout",
     "output_type": "stream",
     "text": [
      "(25000,) (25000,)\n"
     ]
    }
   ],
   "source": [
    "from tensorflow import keras\n",
    "import matplotlib.pyplot as plt\n",
    "import matplotlib\n",
    "matplotlib.rcParams['axes.unicode_minus']=False\n",
    "import numpy as np\n",
    "import pandas as pd\n",
    "from sklearn.model_selection import train_test_split\n",
    "from tensorflow.keras.datasets import imdb\n",
    "\n",
    "# 파일불러오기\n",
    "# 웹스크래핑 불러오기 : 500개 넘버링만 가져오기\n",
    "(train_data,train_label),(test_data,test_label)=imdb.load_data(num_words=500)\n",
    "# (25000,) 1차원배열\n",
    "print(train_data.shape,test_data.shape)\n",
    "\n"
   ]
  },
  {
   "cell_type": "code",
   "execution_count": 14,
   "metadata": {},
   "outputs": [
    {
     "name": "stdout",
     "output_type": "stream",
     "text": [
      "[0 1]\n"
     ]
    }
   ],
   "source": [
    "## 단어의 수 : 218개 예) 영화 가 너무 재미 없음. 짱 재미 없음. 정말 재미 ... => 번호처리 해줌\n",
    "## [1, 14, 22, 16, 43, 2, 2, 2, 2, => 2는 500단어에서 없는 것을 의미함, 500번대 이상은 없음\n",
    "# print(train_data[0])\n",
    "# print(len(train_data[0])) \n",
    "\n",
    "# 0 : 부정, 1 : 긍정\n",
    "# print(train_label)\n",
    "print(np.unique(train_label))"
   ]
  },
  {
   "cell_type": "code",
   "execution_count": 15,
   "metadata": {},
   "outputs": [
    {
     "name": "stdout",
     "output_type": "stream",
     "text": [
      "(18750,) (6250,)\n"
     ]
    }
   ],
   "source": [
    "\n",
    "# 데이터 전처리\n",
    "sub_data,val_data,sub_label,val_label=train_test_split(train_data,train_label,random_state=42)\n",
    "\n",
    "# \n",
    "print(sub_data.shape,val_data.shape)"
   ]
  },
  {
   "cell_type": "code",
   "execution_count": 16,
   "metadata": {},
   "outputs": [
    {
     "name": "stdout",
     "output_type": "stream",
     "text": [
      "238.71364 178.0\n",
      "2494\n",
      "11\n"
     ]
    }
   ],
   "source": [
    "# 각 train_data의 문장길이가 어떻게 되는지 확인\n",
    "# 25000개의 단어길이 합을 구함\n",
    "lengths=np.array([len(x) for x in train_data])\n",
    "print(np.mean(lengths),np.median(lengths)) \n",
    "print(np.max(lengths)) \n",
    "print(np.min(lengths)) "
   ]
  },
  {
   "cell_type": "code",
   "execution_count": 17,
   "metadata": {},
   "outputs": [
    {
     "data": {
      "image/png": "[encoded data removed]",
      "text/plain": [
       "<Figure size 432x288 with 1 Axes>"
      ]
     },
     "metadata": {
      "needs_background": "light"
     },
     "output_type": "display_data"
    }
   ],
   "source": [
    "\n",
    "# 그래프 그리기\n",
    "plt.hist(lengths)\n",
    "plt.xlabel('lengths')\n",
    "plt.ylabel('frequency')\n",
    "plt.show()"
   ]
  },
  {
   "cell_type": "code",
   "execution_count": 25,
   "metadata": {},
   "outputs": [
    {
     "name": "stdout",
     "output_type": "stream",
     "text": [
      "[  2  13 124   4   2  81   2   2 188   4   2   2  18 118   2  18  14  20\n",
      " 190  13 122  24 169 101   2  11  41 116  12 186  15   8  79   2  25  43\n",
      "  28   8   2  66   2  11   2   5   2 139   5   2  32  11  32   6  87  20\n",
      "  48  25  92  40  12 475   2 106  12 174   5  67  48  25  79  12  48  12\n",
      "   2  25   2  42   2  42   2   2  95 104  48  15  16  24  51   4 167  16\n",
      " 165   2  33 143  14  20  11   4  86 273]\n",
      "100\n",
      "[312 489  10  10   2  47  69   2  11   2  11   2 153  19   2 245   5   2\n",
      "  31   7  27 171 108  13 161 459  18  21   8  72   2   9 131  27   2   2\n",
      " 259   2  19  27 303 157  80 220 434 358  14   2 157   5 174  14  22   9\n",
      "   6   2  33   4 350   7  27   2   2  23 175   2 474   2 194 278   8  30\n",
      "   2   8  67  14  23   6   2 268 137  15  80 242 115   2  45  52   8 124\n",
      "  15  33 222  14 356  47  77   2  23 288]\n"
     ]
    }
   ],
   "source": [
    "# 11 ~ 2494 글자 존재 => 100글자만 사용할 것\n",
    "# 100글자 짜르고, 없는 부분 0으로 채워줌\n",
    "from tensorflow.keras.preprocessing.sequence import pad_sequences\n",
    "\n",
    "train_seq=pad_sequences(sub_data,maxlen=100)\n",
    "# 문장길이 218 \n",
    "print(train_seq[0])\n",
    "print(len(train_seq[0])) # 100개\n",
    "print(train_seq[5])\n",
    "\n",
    "# test_data -> val_data\n",
    "test_seq=pad_sequences(val_data,maxlen=100)\n"
   ]
  },
  {
   "cell_type": "code",
   "execution_count": 26,
   "metadata": {},
   "outputs": [
    {
     "name": "stdout",
     "output_type": "stream",
     "text": [
      "[  0   0   0   0   0   0   0   0   0   0   0   0   0   0   0   0   0   1\n",
      "  13 115 219  14  20 366  13   2   4   2 236 291  13  16   2   5   2  12\n",
      "  47  32   4   2   7  51  13 119   8  67  11   6   2   2  65  11   6 274\n",
      "  42  23   4 268 225   2   2   2   5   6  52  65  10  10 225 142   2   5\n",
      "   2 149   6   2   2   7   4   2   2   7   4   2   5   2  10  10  13 104\n",
      "  45   6 215  67   5  24  64  18   2   2]\n"
     ]
    }
   ],
   "source": [
    "print(train_seq[1])"
   ]
  },
  {
   "cell_type": "code",
   "execution_count": 28,
   "metadata": {},
   "outputs": [
    {
     "name": "stdout",
     "output_type": "stream",
     "text": [
      "[[0. 0. 1. ... 0. 0. 0.]\n",
      " [0. 0. 0. ... 0. 0. 0.]\n",
      " [0. 0. 0. ... 0. 0. 0.]\n",
      " ...\n",
      " [0. 0. 0. ... 0. 0. 0.]\n",
      " [0. 0. 0. ... 0. 0. 0.]\n",
      " [0. 0. 0. ... 0. 0. 0.]]\n",
      "[[0. 0. 0. ... 0. 0. 0.]\n",
      " [0. 0. 1. ... 0. 0. 0.]\n",
      " [0. 0. 0. ... 0. 0. 0.]\n",
      " ...\n",
      " [0. 0. 0. ... 0. 0. 0.]\n",
      " [0. 0. 0. ... 0. 0. 0.]\n",
      " [0. 0. 1. ... 0. 0. 0.]]\n"
     ]
    }
   ],
   "source": [
    "# ####### 원핫인코딩\n",
    "# train_oh=keras.utils.to_categorical(train_seq)\n",
    "# print(train_oh[0]) # (18750, 100, 500)\n",
    "\n",
    "# test_oh=keras.utils.to_categorical(test_seq)\n",
    "# print(test_oh[0]) # (18750, 100, 500)"
   ]
  },
  {
   "cell_type": "code",
   "execution_count": 39,
   "metadata": {},
   "outputs": [
    {
     "name": "stdout",
     "output_type": "stream",
     "text": [
      "Model: \"sequential_2\"\n",
      "_________________________________________________________________\n",
      " Layer (type)                Output Shape              Param #   \n",
      "=================================================================\n",
      " embedding_1 (Embedding)     (None, 100, 16)           8000      \n",
      "                                                                 \n",
      " simple_rnn_2 (SimpleRNN)    (None, 8)                 200       \n",
      "                                                                 \n",
      " dense_2 (Dense)             (None, 1)                 9         \n",
      "                                                                 \n",
      "=================================================================\n",
      "Total params: 8,209\n",
      "Trainable params: 8,209\n",
      "Non-trainable params: 0\n",
      "_________________________________________________________________\n",
      "None\n"
     ]
    }
   ],
   "source": [
    "\n",
    "# 순환 신경망 선언\n",
    "model=keras.Sequential()\n",
    "\n",
    "# 임베딩 벡터 - 가중치가 들어감\n",
    "# 500단어를 16개로 벡터화\n",
    "model.add(keras.layers.Embedding(500,16,input_length=100))\n",
    "\n",
    "\n",
    "# 순환 신경망 - 뉴런개수:8\n",
    "model.add(keras.layers.SimpleRNN(8,input_shape=(100,500)))\n",
    "model.add(keras.layers.Dense(1, activation='sigmoid'))\n",
    "\n",
    "print(model.summary())\n",
    "## embedding 아닐때\n",
    "# 500*8 + 8*8 (순환이기 때문에 자기자신 곱함) + 8 (y절편) = 4072개\n",
    "# 8*1 + 1 = 9\n",
    "## embedding 일때\n",
    "# 500*16 = 8000\n",
    "# 16*8 + 8*8 + 8 = 200\n",
    "# 8*1 + 1 = 9\n",
    "## LSTM (내부셀1개, 은닉셀4개)\n",
    "# 500*16 = 8000\n",
    "# (16*8 + 8*8 + 8 = 200)*4 = 800\n",
    "# 8*1 + 1 = 9\n",
    "## GRU\n",
    "# 500*16 = 8000\n",
    "# ((16*8 + 8*8 + 8 = 200)+ 8(8개 절편 추가됨))*3 = 624\n",
    "# 8*1 + 1 = 9"
   ]
  },
  {
   "cell_type": "code",
   "execution_count": 35,
   "metadata": {},
   "outputs": [],
   "source": [
    "# 순환신경망 설정 adam, RMSprop\n",
    "rmsprop=keras.optimizers.RMSprop(learning_rate=1e-4)\n",
    "model.compile(optimizer=rmsprop,loss='binary_crossentropy',metrics='accuracy')\n"
   ]
  },
  {
   "cell_type": "code",
   "execution_count": 36,
   "metadata": {},
   "outputs": [
    {
     "name": "stdout",
     "output_type": "stream",
     "text": [
      "Epoch 1/100\n",
      "293/293 [==============================] - 4s 11ms/step - loss: 0.6966 - accuracy: 0.5003 - val_loss: 0.6952 - val_accuracy: 0.4981\n",
      "Epoch 2/100\n",
      "293/293 [==============================] - 3s 11ms/step - loss: 0.6916 - accuracy: 0.5242 - val_loss: 0.6931 - val_accuracy: 0.5133\n",
      "Epoch 3/100\n",
      "293/293 [==============================] - 3s 11ms/step - loss: 0.6823 - accuracy: 0.5786 - val_loss: 0.6759 - val_accuracy: 0.6122\n",
      "Epoch 4/100\n",
      "293/293 [==============================] - 3s 10ms/step - loss: 0.6608 - accuracy: 0.6603 - val_loss: 0.6548 - val_accuracy: 0.6770\n",
      "Epoch 5/100\n",
      "293/293 [==============================] - 3s 11ms/step - loss: 0.6387 - accuracy: 0.7038 - val_loss: 0.6374 - val_accuracy: 0.6941\n",
      "Epoch 6/100\n",
      "293/293 [==============================] - 3s 10ms/step - loss: 0.6190 - accuracy: 0.7252 - val_loss: 0.6197 - val_accuracy: 0.7155\n",
      "Epoch 7/100\n",
      "293/293 [==============================] - 3s 11ms/step - loss: 0.6005 - accuracy: 0.7425 - val_loss: 0.6018 - val_accuracy: 0.7306\n",
      "Epoch 8/100\n",
      "293/293 [==============================] - 3s 10ms/step - loss: 0.5850 - accuracy: 0.7521 - val_loss: 0.5943 - val_accuracy: 0.7243\n",
      "Epoch 9/100\n",
      "293/293 [==============================] - 3s 11ms/step - loss: 0.5708 - accuracy: 0.7632 - val_loss: 0.5775 - val_accuracy: 0.7422\n",
      "Epoch 10/100\n",
      "293/293 [==============================] - 3s 10ms/step - loss: 0.5570 - accuracy: 0.7694 - val_loss: 0.5658 - val_accuracy: 0.7546\n",
      "Epoch 11/100\n",
      "293/293 [==============================] - 3s 11ms/step - loss: 0.5443 - accuracy: 0.7762 - val_loss: 0.5538 - val_accuracy: 0.7605\n",
      "Epoch 12/100\n",
      "293/293 [==============================] - 3s 10ms/step - loss: 0.5321 - accuracy: 0.7810 - val_loss: 0.5458 - val_accuracy: 0.7562\n",
      "Epoch 13/100\n",
      "293/293 [==============================] - 3s 11ms/step - loss: 0.5202 - accuracy: 0.7863 - val_loss: 0.5344 - val_accuracy: 0.7670\n",
      "Epoch 14/100\n",
      "293/293 [==============================] - 3s 10ms/step - loss: 0.5100 - accuracy: 0.7920 - val_loss: 0.5260 - val_accuracy: 0.7694\n",
      "Epoch 15/100\n",
      "293/293 [==============================] - 3s 11ms/step - loss: 0.4988 - accuracy: 0.7961 - val_loss: 0.5218 - val_accuracy: 0.7677\n",
      "Epoch 16/100\n",
      "293/293 [==============================] - 4s 12ms/step - loss: 0.4893 - accuracy: 0.7996 - val_loss: 0.5116 - val_accuracy: 0.7682\n",
      "Epoch 17/100\n",
      "293/293 [==============================] - 3s 10ms/step - loss: 0.4797 - accuracy: 0.8029 - val_loss: 0.5048 - val_accuracy: 0.7701\n",
      "Epoch 18/100\n",
      "293/293 [==============================] - 3s 11ms/step - loss: 0.4711 - accuracy: 0.8079 - val_loss: 0.4983 - val_accuracy: 0.7725\n",
      "Epoch 19/100\n",
      "293/293 [==============================] - 3s 10ms/step - loss: 0.4629 - accuracy: 0.8095 - val_loss: 0.4926 - val_accuracy: 0.7758\n",
      "Epoch 20/100\n",
      "293/293 [==============================] - 3s 11ms/step - loss: 0.4555 - accuracy: 0.8138 - val_loss: 0.4884 - val_accuracy: 0.7741\n",
      "Epoch 21/100\n",
      "293/293 [==============================] - 3s 10ms/step - loss: 0.4485 - accuracy: 0.8145 - val_loss: 0.4833 - val_accuracy: 0.7762\n",
      "Epoch 22/100\n",
      "293/293 [==============================] - 3s 11ms/step - loss: 0.4421 - accuracy: 0.8177 - val_loss: 0.4800 - val_accuracy: 0.7773\n",
      "Epoch 23/100\n",
      "293/293 [==============================] - 3s 10ms/step - loss: 0.4362 - accuracy: 0.8202 - val_loss: 0.4768 - val_accuracy: 0.7787\n",
      "Epoch 24/100\n",
      "293/293 [==============================] - 3s 10ms/step - loss: 0.4314 - accuracy: 0.8202 - val_loss: 0.4729 - val_accuracy: 0.7773\n",
      "Epoch 25/100\n",
      "293/293 [==============================] - 3s 10ms/step - loss: 0.4265 - accuracy: 0.8221 - val_loss: 0.4709 - val_accuracy: 0.7797\n",
      "Epoch 26/100\n",
      "293/293 [==============================] - 3s 10ms/step - loss: 0.4219 - accuracy: 0.8238 - val_loss: 0.4732 - val_accuracy: 0.7808\n",
      "Epoch 27/100\n",
      "293/293 [==============================] - 3s 10ms/step - loss: 0.4177 - accuracy: 0.8263 - val_loss: 0.4697 - val_accuracy: 0.7779\n",
      "Epoch 28/100\n",
      "293/293 [==============================] - 3s 10ms/step - loss: 0.4138 - accuracy: 0.8266 - val_loss: 0.4686 - val_accuracy: 0.7779\n",
      "Epoch 29/100\n",
      "293/293 [==============================] - 3s 10ms/step - loss: 0.4106 - accuracy: 0.8287 - val_loss: 0.4685 - val_accuracy: 0.7789\n",
      "Epoch 30/100\n",
      "293/293 [==============================] - 3s 10ms/step - loss: 0.4078 - accuracy: 0.8281 - val_loss: 0.4663 - val_accuracy: 0.7800\n",
      "Epoch 31/100\n",
      "293/293 [==============================] - 3s 10ms/step - loss: 0.4049 - accuracy: 0.8305 - val_loss: 0.4692 - val_accuracy: 0.7792\n",
      "Epoch 32/100\n",
      "293/293 [==============================] - 3s 10ms/step - loss: 0.4023 - accuracy: 0.8305 - val_loss: 0.4683 - val_accuracy: 0.7787\n",
      "Epoch 33/100\n",
      "293/293 [==============================] - 3s 10ms/step - loss: 0.3996 - accuracy: 0.8317 - val_loss: 0.4696 - val_accuracy: 0.7794\n"
     ]
    }
   ],
   "source": [
    "# 콜백 - 20번돌고나서, 가장 낮은 손실률을 저장\n",
    "check_cb=keras.callbacks.ModelCheckpoint('best-rnn.h5',save_best_only=True)\n",
    "early_cb=keras.callbacks.EarlyStopping(patience=3,restore_best_weights=True)\n",
    "\n",
    "history=model.fit(train_seq,sub_label,epochs=100,batch_size=64,\\\n",
    "    validation_data=(test_seq,val_label),callbacks=[check_cb,early_cb])\n"
   ]
  },
  {
   "cell_type": "code",
   "execution_count": 37,
   "metadata": {},
   "outputs": [
    {
     "data": {
      "image/png": "[encoded data removed]",
      "text/plain": [
       "<Figure size 432x288 with 1 Axes>"
      ]
     },
     "metadata": {
      "needs_background": "light"
     },
     "output_type": "display_data"
    }
   ],
   "source": [
    "# 그래프 그리기\n",
    "plt.plot(history.history['loss'])\n",
    "plt.plot(history.history['val_loss'])\n",
    "plt.xlabel('epoch')\n",
    "plt.ylabel('loss')\n",
    "plt.legend(['train','test'])\n",
    "plt.show()"
   ]
  },
  {
   "cell_type": "code",
   "execution_count": 38,
   "metadata": {},
   "outputs": [
    {
     "name": "stdout",
     "output_type": "stream",
     "text": [
      "196/196 [==============================] - 0s 2ms/step - loss: 0.4663 - accuracy: 0.7800\n",
      "loss, accuracy :  [0.46629592776298523, 0.7799999713897705]\n"
     ]
    }
   ],
   "source": [
    "# 정확도\n",
    "score= model.evaluate(test_seq,val_label)\n",
    "print('loss, accuracy : ', score)"
   ]
  },
  {
   "cell_type": "code",
   "execution_count": null,
   "metadata": {},
   "outputs": [],
   "source": []
  }
 ],
 "metadata": {
  "kernelspec": {
   "display_name": "Python 3.10.2 64-bit",
   "language": "python",
   "name": "python3"
  },
  "language_info": {
   "codemirror_mode": {
    "name": "ipython",
    "version": 3
   },
   "file_extension": ".py",
   "mimetype": "text/x-python",
   "name": "python",
   "nbconvert_exporter": "python",
   "pygments_lexer": "ipython3",
   "version": "3.10.2"
  },
  "orig_nbformat": 4,
  "vscode": {
   "interpreter": {
    "hash": "369f2c481f4da34e4445cda3fffd2e751bd1c4d706f27375911949ba6bb62e1c"
   }
  }
 },
 "nbformat": 4,
 "nbformat_minor": 2
}
