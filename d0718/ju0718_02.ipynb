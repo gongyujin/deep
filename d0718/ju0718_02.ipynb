{
 "cells": [
  {
   "cell_type": "code",
   "execution_count": 1,
   "metadata": {},
   "outputs": [],
   "source": [
    "from konlpy.tag import Okt\n",
    "from lightgbm import train\n",
    "from tensorflow import keras\n",
    "import matplotlib.pyplot as plt\n",
    "import numpy as np\n",
    "import pandas as pd\n",
    "from sklearn.model_selection import train_test_split\n",
    "import urllib.request\n",
    "# from gensim.models import word2vec\n",
    "import gensim\n",
    "\n",
    "# url 파일 불러오기\n",
    "# 영화평점\n",
    "urllib.request.urlretrieve('https://raw.githubusercontent.com/e9t/nsmc/master/ratings.txt',filename='ratings.txt')\n",
    "train_data=pd.read_table('ratings.txt')\n",
    "\n",
    "## 데이터 확인\n",
    "# print(train_data.describe()) # document형태는 나오지 않음\n",
    "# print(train_data.info())\n",
    "# print(train_data['label']) # 부정적인 글, 긍정적인 글\n",
    "\n",
    "## 총개수 - 200000\n",
    "# print(len(train_data))\n",
    "\n",
    "# null값 제거 - 199992\n",
    "train_data=train_data.dropna(how='any')\n",
    "# print(train_data.info())\n"
   ]
  },
  {
   "cell_type": "code",
   "execution_count": 2,
   "metadata": {},
   "outputs": [
    {
     "name": "stdout",
     "output_type": "stream",
     "text": [
      "<class 'pandas.core.frame.DataFrame'>\n",
      "Int64Index: 199992 entries, 0 to 199999\n",
      "Data columns (total 3 columns):\n",
      " #   Column    Non-Null Count   Dtype \n",
      "---  ------    --------------   ----- \n",
      " 0   id        199992 non-null  int64 \n",
      " 1   document  199992 non-null  object\n",
      " 2   label     199992 non-null  int64 \n",
      "dtypes: int64(2), object(1)\n",
      "memory usage: 6.1+ MB\n",
      "None\n"
     ]
    }
   ],
   "source": [
    "print(train_data.info())"
   ]
  },
  {
   "cell_type": "code",
   "execution_count": 3,
   "metadata": {},
   "outputs": [],
   "source": [
    "\n",
    "# # 한글 외 모든 글자 제외 nnn/n\n",
    "# # 영화 댓글 부분\n",
    "# # regex=True : 문자열 일부 치환설정\n",
    "# print(train_data.head())\n",
    "train_data['document']=train_data['document'].str.replace('[^ㄱ-하-ㅣ가-힣]','',regex=True)\n",
    "# print(train_data.head())\n",
    "\n",
    "# 형태소 분석\n",
    "okt=Okt()\n",
    "# word2vec 형태소 분석 -> 글자간의 벡터화를 해서 글자간의 관계를 형성\n",
    "# [[]] 2차원이어야함\n",
    "\n",
    "## 불용어 정의\n",
    "stopwords = ['의','가','이','은','들','는','좀','잘','걍','과','도','를','으로','자','에','와','한','하다']\n",
    "\n"
   ]
  },
  {
   "cell_type": "code",
   "execution_count": 4,
   "metadata": {},
   "outputs": [],
   "source": [
    "\n",
    "token_data=[] # 제일 바깥 리스트\n",
    "# 199992개를 가져와서 형태소 분석\n",
    "for sent in train_data['document']:\n",
    "    # 1줄을 가져와서 형태소 분석\n",
    "    temp_x = okt.morphs(sent,stem=True) # 형태소 만들어져서 temp_x에 저장\n",
    "    temp_x=[word for word in temp_x if not word in stopwords]\n",
    "    token_data.append(temp_x)"
   ]
  },
  {
   "cell_type": "code",
   "execution_count": 5,
   "metadata": {},
   "outputs": [
    {
     "name": "stdout",
     "output_type": "stream",
     "text": [
      "ok\n",
      "[('남자', 0.7243555784225464), ('행동', 0.6262853145599365), ('주인공', 0.617465615272522), ('둘', 0.6069890260696411), ('강간', 0.5681067109107971), ('성격', 0.5655079483985901), ('남녀', 0.5581508278846741), ('저렇게', 0.5377167463302612), ('외모', 0.5269481539726257), ('착하다', 0.5122285485267639)]\n"
     ]
    }
   ],
   "source": [
    "from gensim.models import Word2Vec\n",
    "model = Word2Vec(sentences=token_data,vector_size=100,window=5,min_count=5,workers=4,sg=0)\n",
    "print('ok')\n",
    "print(model.wv.most_similar(positive=['여자','결혼'],negative=['아빠']))"
   ]
  },
  {
   "cell_type": "code",
   "execution_count": null,
   "metadata": {},
   "outputs": [],
   "source": []
  }
 ],
 "metadata": {
  "kernelspec": {
   "display_name": "Python 3.10.2 64-bit",
   "language": "python",
   "name": "python3"
  },
  "language_info": {
   "codemirror_mode": {
    "name": "ipython",
    "version": 3
   },
   "file_extension": ".py",
   "mimetype": "text/x-python",
   "name": "python",
   "nbconvert_exporter": "python",
   "pygments_lexer": "ipython3",
   "version": "3.10.2"
  },
  "orig_nbformat": 4,
  "vscode": {
   "interpreter": {
    "hash": "369f2c481f4da34e4445cda3fffd2e751bd1c4d706f27375911949ba6bb62e1c"
   }
  }
 },
 "nbformat": 4,
 "nbformat_minor": 2
}
