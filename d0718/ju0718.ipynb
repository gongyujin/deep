{
 "cells": [
  {
   "cell_type": "code",
   "execution_count": 61,
   "metadata": {},
   "outputs": [],
   "source": [
    "from lightgbm import train\n",
    "from tensorflow import keras\n",
    "import matplotlib.pyplot as plt\n",
    "import numpy as np\n",
    "import pandas as pd\n",
    "from sklearn.model_selection import train_test_split"
   ]
  },
  {
   "cell_type": "code",
   "execution_count": 62,
   "metadata": {},
   "outputs": [],
   "source": [
    "# 1. 데이터 불러오기\n",
    "(train_data,train_label),(test_data,test_label)=keras.datasets.fashion_mnist.load_data()"
   ]
  },
  {
   "cell_type": "code",
   "execution_count": 63,
   "metadata": {},
   "outputs": [
    {
     "name": "stdout",
     "output_type": "stream",
     "text": [
      "<class 'numpy.ndarray'>\n",
      "(60000, 28, 28)\n"
     ]
    }
   ],
   "source": [
    "print(type(train_data))\n",
    "# 60000개, 사이즈 28*28\n",
    "print(train_data.shape)"
   ]
  },
  {
   "cell_type": "code",
   "execution_count": 64,
   "metadata": {},
   "outputs": [],
   "source": [
    "# 2. 정규화, 표준화 작업\n",
    "np.max(train_data[0]) # 최대값 255, 최소값 0\n",
    "train_data=train_data/255\n",
    "test_data=test_data/255"
   ]
  },
  {
   "cell_type": "code",
   "execution_count": 65,
   "metadata": {},
   "outputs": [
    {
     "name": "stdout",
     "output_type": "stream",
     "text": [
      "[0 1 2 3 4 5 6 7 8 9]\n"
     ]
    }
   ],
   "source": [
    "# 클래스가 10개 분류 : 10개\n",
    "print(np.unique(train_label))"
   ]
  },
  {
   "cell_type": "code",
   "execution_count": 66,
   "metadata": {},
   "outputs": [],
   "source": [
    "# 3. train, test분리\n",
    "train_scaled,val_scaled,train_label,val_label=train_test_split(train_data,train_label)"
   ]
  },
  {
   "cell_type": "code",
   "execution_count": 67,
   "metadata": {},
   "outputs": [
    {
     "data": {
      "text/plain": [
       "((45000, 28, 28), (15000, 28, 28))"
      ]
     },
     "execution_count": 67,
     "metadata": {},
     "output_type": "execute_result"
    }
   ],
   "source": [
    "train_scaled.shape,val_scaled.shape\n"
   ]
  },
  {
   "cell_type": "code",
   "execution_count": 68,
   "metadata": {},
   "outputs": [],
   "source": [
    "# 4. 딥러닝 선언\n",
    "model=keras.Sequential()\n",
    "model.add(keras.layers.Flatten(input_shape=(28,28)))\n",
    "model.add(keras.layers.Dense(100,activation='relu'))\n",
    "model.add(keras.layers.Dropout(0.3)) # 규제 - 뉴런개수 30% 삭제\n",
    "model.add(keras.layers.Dense(10,activation='softmax'))"
   ]
  },
  {
   "cell_type": "code",
   "execution_count": 69,
   "metadata": {},
   "outputs": [],
   "source": [
    "# 딥러닝 설명 (sgd, 모멘텀, 네스테로브, rmsprop, adam 으로 돌려볼것)\n",
    "model.compile(optimizer='adam',loss='sparse_categorical_crossentropy',metrics='accuracy')"
   ]
  },
  {
   "cell_type": "code",
   "execution_count": 70,
   "metadata": {},
   "outputs": [],
   "source": [
    "# 콜백선언\n",
    "chpoint = keras.callbacks.ModelCheckpoint('b-model.h5')"
   ]
  },
  {
   "cell_type": "code",
   "execution_count": 71,
   "metadata": {},
   "outputs": [],
   "source": [
    "# 조기종료\n",
    "# restore_best_weight : 최고좋은값으로 돌아가라\n",
    "early_stop=keras.callbacks.EarlyStopping(patience=3,restore_best_weights=True)"
   ]
  },
  {
   "cell_type": "code",
   "execution_count": 72,
   "metadata": {},
   "outputs": [
    {
     "name": "stdout",
     "output_type": "stream",
     "text": [
      "Epoch 1/20\n",
      "1407/1407 [==============================] - 2s 2ms/step - loss: 0.6065 - accuracy: 0.7882 - val_loss: 0.4300 - val_accuracy: 0.8432\n",
      "Epoch 2/20\n",
      "1407/1407 [==============================] - 2s 2ms/step - loss: 0.4438 - accuracy: 0.8413 - val_loss: 0.3751 - val_accuracy: 0.8649\n",
      "Epoch 3/20\n",
      "1407/1407 [==============================] - 2s 1ms/step - loss: 0.4101 - accuracy: 0.8516 - val_loss: 0.3536 - val_accuracy: 0.8719\n",
      "Epoch 4/20\n",
      "1407/1407 [==============================] - 2s 1ms/step - loss: 0.3884 - accuracy: 0.8586 - val_loss: 0.3466 - val_accuracy: 0.8698\n",
      "Epoch 5/20\n",
      "1407/1407 [==============================] - 2s 1ms/step - loss: 0.3711 - accuracy: 0.8643 - val_loss: 0.3397 - val_accuracy: 0.8733\n",
      "Epoch 6/20\n",
      "1407/1407 [==============================] - 2s 1ms/step - loss: 0.3535 - accuracy: 0.8704 - val_loss: 0.3352 - val_accuracy: 0.8751\n",
      "Epoch 7/20\n",
      "1407/1407 [==============================] - 2s 2ms/step - loss: 0.3429 - accuracy: 0.8736 - val_loss: 0.3289 - val_accuracy: 0.8819\n",
      "Epoch 8/20\n",
      "1407/1407 [==============================] - 3s 2ms/step - loss: 0.3388 - accuracy: 0.8744 - val_loss: 0.3440 - val_accuracy: 0.8715\n",
      "Epoch 9/20\n",
      "1407/1407 [==============================] - 2s 1ms/step - loss: 0.3307 - accuracy: 0.8770 - val_loss: 0.3197 - val_accuracy: 0.8817\n",
      "Epoch 10/20\n",
      "1407/1407 [==============================] - 2s 2ms/step - loss: 0.3243 - accuracy: 0.8805 - val_loss: 0.3188 - val_accuracy: 0.8825\n",
      "Epoch 11/20\n",
      "1407/1407 [==============================] - 2s 1ms/step - loss: 0.3162 - accuracy: 0.8830 - val_loss: 0.3284 - val_accuracy: 0.8774\n",
      "Epoch 12/20\n",
      "1407/1407 [==============================] - 3s 2ms/step - loss: 0.3127 - accuracy: 0.8829 - val_loss: 0.3162 - val_accuracy: 0.8864\n",
      "Epoch 13/20\n",
      "1407/1407 [==============================] - 2s 1ms/step - loss: 0.3071 - accuracy: 0.8862 - val_loss: 0.3145 - val_accuracy: 0.8878\n",
      "Epoch 14/20\n",
      "1407/1407 [==============================] - 2s 1ms/step - loss: 0.2992 - accuracy: 0.8888 - val_loss: 0.3181 - val_accuracy: 0.8883\n",
      "Epoch 15/20\n",
      "1407/1407 [==============================] - 2s 1ms/step - loss: 0.2966 - accuracy: 0.8890 - val_loss: 0.3250 - val_accuracy: 0.8827\n",
      "Epoch 16/20\n",
      "1407/1407 [==============================] - 2s 2ms/step - loss: 0.2920 - accuracy: 0.8913 - val_loss: 0.3269 - val_accuracy: 0.8817\n",
      "dict_keys(['loss', 'accuracy', 'val_loss', 'val_accuracy'])\n"
     ]
    }
   ],
   "source": [
    "# 5. 딥러닝 훈련\n",
    "history = model.fit(train_scaled,train_label,epochs=20,validation_data=(val_scaled,val_label),callbacks=[chpoint,early_stop])\n",
    "print(history.history.keys())"
   ]
  },
  {
   "cell_type": "code",
   "execution_count": 73,
   "metadata": {},
   "outputs": [
    {
     "data": {
      "image/png": "[encoded data removed]",
      "text/plain": [
       "<Figure size 432x288 with 1 Axes>"
      ]
     },
     "metadata": {
      "needs_background": "light"
     },
     "output_type": "display_data"
    }
   ],
   "source": [
    "# 그래프 그리기\n",
    "# loss, val_loss\n",
    "plt.plot(history.history['loss'])\n",
    "plt.plot(history.history['val_loss'])\n",
    "plt.xlabel('epoch')\n",
    "plt.ylabel('loss')\n",
    "plt.legend(['train','val'])\n",
    "plt.show()"
   ]
  },
  {
   "cell_type": "code",
   "execution_count": 74,
   "metadata": {},
   "outputs": [
    {
     "name": "stdout",
     "output_type": "stream",
     "text": [
      "469/469 [==============================] - 0s 839us/step - loss: 0.3145 - accuracy: 0.8878\n",
      "[0.3145204782485962, 0.8877999782562256]\n"
     ]
    }
   ],
   "source": [
    "# 정확도\n",
    "score=model.evaluate(val_scaled,val_label)\n",
    "print(score)"
   ]
  }
 ],
 "metadata": {
  "kernelspec": {
   "display_name": "Python 3.10.2 64-bit",
   "language": "python",
   "name": "python3"
  },
  "language_info": {
   "codemirror_mode": {
    "name": "ipython",
    "version": 3
   },
   "file_extension": ".py",
   "mimetype": "text/x-python",
   "name": "python",
   "nbconvert_exporter": "python",
   "pygments_lexer": "ipython3",
   "version": "3.10.2"
  },
  "orig_nbformat": 4,
  "vscode": {
   "interpreter": {
    "hash": "369f2c481f4da34e4445cda3fffd2e751bd1c4d706f27375911949ba6bb62e1c"
   }
  }
 },
 "nbformat": 4,
 "nbformat_minor": 2
}
