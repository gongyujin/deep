{
 "cells": [
  {
   "cell_type": "code",
   "execution_count": 14,
   "metadata": {},
   "outputs": [
    {
     "name": "stdout",
     "output_type": "stream",
     "text": [
      "(25000,) (25000,)\n"
     ]
    }
   ],
   "source": [
    "from tensorflow import keras\n",
    "import matplotlib.pyplot as plt\n",
    "import matplotlib\n",
    "matplotlib.rcParams['axes.unicode_minus']=False\n",
    "import numpy as np\n",
    "import pandas as pd\n",
    "from sklearn.model_selection import train_test_split\n",
    "from tensorflow.keras.datasets import imdb\n",
    "\n",
    "# 파일불러오기\n",
    "# 웹스크래핑 불러오기 : 500개 넘버링만 가져오기\n",
    "(train_data,train_label),(test_data,test_label)=imdb.load_data(num_words=500)\n",
    "# (25000,) 1차원배열\n",
    "print(train_data.shape,test_data.shape)\n",
    "\n"
   ]
  },
  {
   "cell_type": "code",
   "execution_count": 15,
   "metadata": {},
   "outputs": [
    {
     "name": "stdout",
     "output_type": "stream",
     "text": [
      "[0 1]\n"
     ]
    }
   ],
   "source": [
    "## 단어의 수 : 218개 예) 영화 가 너무 재미 없음. 짱 재미 없음. 정말 재미 ... => 번호처리 해줌\n",
    "## [1, 14, 22, 16, 43, 2, 2, 2, 2, => 2는 500단어에서 없는 것을 의미함, 500번대 이상은 없음\n",
    "# print(train_data[0])\n",
    "# print(len(train_data[0])) \n",
    "\n",
    "# 0 : 부정, 1 : 긍정\n",
    "# print(train_label)\n",
    "print(np.unique(train_label))"
   ]
  },
  {
   "cell_type": "code",
   "execution_count": 16,
   "metadata": {},
   "outputs": [
    {
     "name": "stdout",
     "output_type": "stream",
     "text": [
      "(18750,) (6250,)\n"
     ]
    }
   ],
   "source": [
    "# 데이터 전처리\n",
    "sub_data,val_data,sub_label,val_label=train_test_split(train_data,train_label,random_state=42)\n",
    "\n",
    "# \n",
    "print(sub_data.shape,val_data.shape)"
   ]
  },
  {
   "cell_type": "code",
   "execution_count": 17,
   "metadata": {},
   "outputs": [
    {
     "name": "stdout",
     "output_type": "stream",
     "text": [
      "238.71364 178.0\n",
      "2494\n",
      "11\n"
     ]
    }
   ],
   "source": [
    "# 각 train_data의 문장길이가 어떻게 되는지 확인\n",
    "# 25000개의 단어길이 합을 구함\n",
    "lengths=np.array([len(x) for x in train_data])\n",
    "print(np.mean(lengths),np.median(lengths)) \n",
    "print(np.max(lengths)) \n",
    "print(np.min(lengths)) "
   ]
  },
  {
   "cell_type": "markdown",
   "metadata": {},
   "source": []
  },
  {
   "cell_type": "code",
   "execution_count": 18,
   "metadata": {},
   "outputs": [
    {
     "data": {
      "image/png": "[encoded data removed]",
      "text/plain": [
       "<Figure size 432x288 with 1 Axes>"
      ]
     },
     "metadata": {
      "needs_background": "light"
     },
     "output_type": "display_data"
    }
   ],
   "source": [
    "\n",
    "# 그래프 그리기\n",
    "plt.hist(lengths)\n",
    "plt.xlabel('lengths')\n",
    "plt.ylabel('frequency')\n",
    "plt.show()"
   ]
  },
  {
   "cell_type": "code",
   "execution_count": 19,
   "metadata": {},
   "outputs": [
    {
     "name": "stdout",
     "output_type": "stream",
     "text": [
      "[  2  13 124   4   2  81   2   2 188   4   2   2  18 118   2  18  14  20\n",
      " 190  13 122  24 169 101   2  11  41 116  12 186  15   8  79   2  25  43\n",
      "  28   8   2  66   2  11   2   5   2 139   5   2  32  11  32   6  87  20\n",
      "  48  25  92  40  12 475   2 106  12 174   5  67  48  25  79  12  48  12\n",
      "   2  25   2  42   2  42   2   2  95 104  48  15  16  24  51   4 167  16\n",
      " 165   2  33 143  14  20  11   4  86 273]\n",
      "100\n",
      "[312 489  10  10   2  47  69   2  11   2  11   2 153  19   2 245   5   2\n",
      "  31   7  27 171 108  13 161 459  18  21   8  72   2   9 131  27   2   2\n",
      " 259   2  19  27 303 157  80 220 434 358  14   2 157   5 174  14  22   9\n",
      "   6   2  33   4 350   7  27   2   2  23 175   2 474   2 194 278   8  30\n",
      "   2   8  67  14  23   6   2 268 137  15  80 242 115   2  45  52   8 124\n",
      "  15  33 222  14 356  47  77   2  23 288]\n"
     ]
    }
   ],
   "source": [
    "# 11 ~ 2494 글자 존재 => 100글자만 사용할 것\n",
    "# 100글자 짜르고, 없는 부분 0으로 채워줌\n",
    "from tensorflow.keras.preprocessing.sequence import pad_sequences\n",
    "\n",
    "sub_seq=pad_sequences(sub_data,maxlen=100)\n",
    "# 문장길이 218 \n",
    "print(sub_seq[0])\n",
    "print(len(sub_seq[0])) # 100개\n",
    "print(sub_seq[5])\n",
    "\n",
    "# test_data -> val_data\n",
    "val_seq=pad_sequences(val_data,maxlen=100)\n"
   ]
  },
  {
   "cell_type": "code",
   "execution_count": 20,
   "metadata": {},
   "outputs": [
    {
     "name": "stdout",
     "output_type": "stream",
     "text": [
      "[ 53   2   8   4 114   4   2   2  26  53   2  74   2 137   4   2  26   2\n",
      "   5   2  10  10 160 439   9  15   4 445   2   2   9 446   2   2   8   4\n",
      "   2 444  13 104   6 117  53 278   5 128   2  62  28 224  14   6 176   7\n",
      "   2  21  50   9 142   2  44  12   2   2  93   6   2   2   7 231 268   2\n",
      "   7 134 356   2   4  22   2   2  39 112   2  34   4 412 206 108  21  45\n",
      " 131   6  87  20  18   2   2   7  32   2]\n"
     ]
    }
   ],
   "source": [
    "print(val_seq[1])"
   ]
  },
  {
   "cell_type": "code",
   "execution_count": 21,
   "metadata": {},
   "outputs": [],
   "source": [
    "# ####### 원핫인코딩\n",
    "# train_oh=keras.utils.to_categorical(train_seq)\n",
    "# print(train_oh[0]) # (18750, 100, 500)\n",
    "\n",
    "# test_oh=keras.utils.to_categorical(test_seq)\n",
    "# print(test_oh[0]) # (18750, 100, 500)"
   ]
  },
  {
   "cell_type": "code",
   "execution_count": 22,
   "metadata": {},
   "outputs": [
    {
     "name": "stdout",
     "output_type": "stream",
     "text": [
      "Model: \"sequential_1\"\n",
      "_________________________________________________________________\n",
      " Layer (type)                Output Shape              Param #   \n",
      "=================================================================\n",
      " embedding_1 (Embedding)     (None, 100, 16)           8000      \n",
      "                                                                 \n",
      " lstm (LSTM)                 (None, 8)                 800       \n",
      "                                                                 \n",
      " dense_1 (Dense)             (None, 1)                 9         \n",
      "                                                                 \n",
      "=================================================================\n",
      "Total params: 8,809\n",
      "Trainable params: 8,809\n",
      "Non-trainable params: 0\n",
      "_________________________________________________________________\n",
      "None\n"
     ]
    }
   ],
   "source": [
    "\n",
    "# 순환 신경망 선언\n",
    "model=keras.Sequential()\n",
    "\n",
    "# 임베딩 벡터 - 가중치가 들어감\n",
    "# 500단어를 16개로 벡터화\n",
    "model.add(keras.layers.Embedding(500,16,input_length=100))\n",
    "\n",
    "# SimpleRNN - 원핫인코딩 해야만 가능\n",
    "# 순환 신경망 - 뉴런개수:8\n",
    "# model.add(keras.layers.SimpleRNN(8,input_shape=(100,500)))\n",
    "\n",
    "# # GRU\n",
    "# model.add(keras.layers.GRU(8))\n",
    "\n",
    "# LSTM\n",
    "model.add(keras.layers.LSTM(8,dropout=0.3,return_sequence=True))\n",
    "model.add(keras.layers.LSTM(8,dropout=0.3))\n",
    "model.add(keras.layers.Dense(1, activation='sigmoid'))\n",
    "\n",
    "print(model.summary())\n",
    "## embedding 아닐때\n",
    "# 500*8 + 8*8 (순환이기 때문에 자기자신 곱함) + 8 (y절편) = 4072개\n",
    "# 8*1 + 1 = 9\n",
    "## embedding 일때\n",
    "# 500*16 = 8000\n",
    "# 16*8 + 8*8 + 8 = 200\n",
    "# 8*1 + 1 = 9\n",
    "## LSTM (내부셀1개, 은닉셀4개)\n",
    "# 500*16 = 8000\n",
    "# (16*8 + 8*8 + 8 = 200)*4 = 800\n",
    "# 8*1 + 1 = 9\n",
    "## GRU\n",
    "# 500*16 = 8000\n",
    "# ((16*8 + 8*8 + 8 = 200)+ 8(8개 절편 추가됨))*3 = 624\n",
    "# 8*1 + 1 = 9"
   ]
  },
  {
   "cell_type": "code",
   "execution_count": 23,
   "metadata": {},
   "outputs": [],
   "source": [
    "# 순환신경망 설정 adam, RMSprop\n",
    "rmsprop=keras.optimizers.RMSprop(learning_rate=1e-4)\n",
    "model.compile(optimizer=rmsprop,loss='binary_crossentropy',metrics='accuracy')\n"
   ]
  },
  {
   "cell_type": "code",
   "execution_count": 24,
   "metadata": {},
   "outputs": [
    {
     "name": "stdout",
     "output_type": "stream",
     "text": [
      "Epoch 1/100\n",
      "293/293 [==============================] - 8s 21ms/step - loss: 0.6922 - accuracy: 0.5614 - val_loss: 0.6915 - val_accuracy: 0.5987\n",
      "Epoch 2/100\n",
      "293/293 [==============================] - 6s 19ms/step - loss: 0.6901 - accuracy: 0.6166 - val_loss: 0.6885 - val_accuracy: 0.6362\n",
      "Epoch 3/100\n",
      "293/293 [==============================] - 6s 19ms/step - loss: 0.6849 - accuracy: 0.6450 - val_loss: 0.6806 - val_accuracy: 0.6555\n",
      "Epoch 4/100\n",
      "293/293 [==============================] - 6s 19ms/step - loss: 0.6660 - accuracy: 0.6611 - val_loss: 0.6408 - val_accuracy: 0.6682\n",
      "Epoch 5/100\n",
      "293/293 [==============================] - 5s 18ms/step - loss: 0.6043 - accuracy: 0.7183 - val_loss: 0.5891 - val_accuracy: 0.7352\n",
      "Epoch 6/100\n",
      "293/293 [==============================] - 5s 18ms/step - loss: 0.5726 - accuracy: 0.7439 - val_loss: 0.5663 - val_accuracy: 0.7451\n",
      "Epoch 7/100\n",
      "293/293 [==============================] - 5s 18ms/step - loss: 0.5516 - accuracy: 0.7575 - val_loss: 0.5476 - val_accuracy: 0.7483\n",
      "Epoch 8/100\n",
      "293/293 [==============================] - 5s 18ms/step - loss: 0.5328 - accuracy: 0.7648 - val_loss: 0.5316 - val_accuracy: 0.7563\n",
      "Epoch 9/100\n",
      "293/293 [==============================] - 5s 18ms/step - loss: 0.5164 - accuracy: 0.7725 - val_loss: 0.5190 - val_accuracy: 0.7570\n",
      "Epoch 10/100\n",
      "293/293 [==============================] - 5s 18ms/step - loss: 0.5017 - accuracy: 0.7770 - val_loss: 0.5039 - val_accuracy: 0.7760\n",
      "Epoch 11/100\n",
      "293/293 [==============================] - 6s 19ms/step - loss: 0.4885 - accuracy: 0.7845 - val_loss: 0.4925 - val_accuracy: 0.7803\n",
      "Epoch 12/100\n",
      "293/293 [==============================] - 6s 19ms/step - loss: 0.4774 - accuracy: 0.7898 - val_loss: 0.4847 - val_accuracy: 0.7822\n",
      "Epoch 13/100\n",
      "293/293 [==============================] - 6s 19ms/step - loss: 0.4670 - accuracy: 0.7947 - val_loss: 0.4786 - val_accuracy: 0.7818\n",
      "Epoch 14/100\n",
      "293/293 [==============================] - 6s 19ms/step - loss: 0.4581 - accuracy: 0.8000 - val_loss: 0.4699 - val_accuracy: 0.7856\n",
      "Epoch 15/100\n",
      "293/293 [==============================] - 6s 19ms/step - loss: 0.4512 - accuracy: 0.8019 - val_loss: 0.4618 - val_accuracy: 0.7888\n",
      "Epoch 16/100\n",
      "293/293 [==============================] - 6s 19ms/step - loss: 0.4452 - accuracy: 0.8042 - val_loss: 0.4570 - val_accuracy: 0.7920\n",
      "Epoch 17/100\n",
      "293/293 [==============================] - 6s 19ms/step - loss: 0.4398 - accuracy: 0.8072 - val_loss: 0.4533 - val_accuracy: 0.7904\n",
      "Epoch 18/100\n",
      "293/293 [==============================] - 6s 19ms/step - loss: 0.4354 - accuracy: 0.8083 - val_loss: 0.4507 - val_accuracy: 0.7917\n",
      "Epoch 19/100\n",
      "293/293 [==============================] - 6s 19ms/step - loss: 0.4317 - accuracy: 0.8100 - val_loss: 0.4505 - val_accuracy: 0.7949\n",
      "Epoch 20/100\n",
      "293/293 [==============================] - 6s 19ms/step - loss: 0.4287 - accuracy: 0.8121 - val_loss: 0.4451 - val_accuracy: 0.7976\n",
      "Epoch 21/100\n",
      "293/293 [==============================] - 6s 19ms/step - loss: 0.4261 - accuracy: 0.8127 - val_loss: 0.4439 - val_accuracy: 0.7949\n",
      "Epoch 22/100\n",
      "293/293 [==============================] - 6s 19ms/step - loss: 0.4242 - accuracy: 0.8116 - val_loss: 0.4434 - val_accuracy: 0.7952\n",
      "Epoch 23/100\n",
      "293/293 [==============================] - 6s 19ms/step - loss: 0.4224 - accuracy: 0.8141 - val_loss: 0.4409 - val_accuracy: 0.7973\n",
      "Epoch 24/100\n",
      "293/293 [==============================] - 6s 19ms/step - loss: 0.4206 - accuracy: 0.8143 - val_loss: 0.4425 - val_accuracy: 0.7966\n",
      "Epoch 25/100\n",
      "293/293 [==============================] - 5s 18ms/step - loss: 0.4192 - accuracy: 0.8146 - val_loss: 0.4422 - val_accuracy: 0.7962\n",
      "Epoch 26/100\n",
      "293/293 [==============================] - 5s 19ms/step - loss: 0.4183 - accuracy: 0.8157 - val_loss: 0.4389 - val_accuracy: 0.7970\n",
      "Epoch 27/100\n",
      "293/293 [==============================] - 6s 19ms/step - loss: 0.4168 - accuracy: 0.8142 - val_loss: 0.4381 - val_accuracy: 0.7979\n",
      "Epoch 28/100\n",
      "293/293 [==============================] - 6s 19ms/step - loss: 0.4159 - accuracy: 0.8145 - val_loss: 0.4390 - val_accuracy: 0.7976\n",
      "Epoch 29/100\n",
      "293/293 [==============================] - 5s 18ms/step - loss: 0.4151 - accuracy: 0.8162 - val_loss: 0.4385 - val_accuracy: 0.7942\n",
      "Epoch 30/100\n",
      "293/293 [==============================] - 5s 19ms/step - loss: 0.4137 - accuracy: 0.8153 - val_loss: 0.4364 - val_accuracy: 0.7979\n",
      "Epoch 31/100\n",
      "293/293 [==============================] - 5s 18ms/step - loss: 0.4136 - accuracy: 0.8154 - val_loss: 0.4400 - val_accuracy: 0.7997\n",
      "Epoch 32/100\n",
      "293/293 [==============================] - 5s 18ms/step - loss: 0.4128 - accuracy: 0.8165 - val_loss: 0.4362 - val_accuracy: 0.7973\n",
      "Epoch 33/100\n",
      "293/293 [==============================] - 5s 18ms/step - loss: 0.4121 - accuracy: 0.8163 - val_loss: 0.4357 - val_accuracy: 0.7976\n",
      "Epoch 34/100\n",
      "293/293 [==============================] - 5s 18ms/step - loss: 0.4112 - accuracy: 0.8155 - val_loss: 0.4358 - val_accuracy: 0.7965\n",
      "Epoch 35/100\n",
      "293/293 [==============================] - 5s 19ms/step - loss: 0.4105 - accuracy: 0.8169 - val_loss: 0.4339 - val_accuracy: 0.7994\n",
      "Epoch 36/100\n",
      "293/293 [==============================] - 5s 18ms/step - loss: 0.4099 - accuracy: 0.8175 - val_loss: 0.4351 - val_accuracy: 0.7963\n",
      "Epoch 37/100\n",
      "293/293 [==============================] - 6s 19ms/step - loss: 0.4096 - accuracy: 0.8164 - val_loss: 0.4371 - val_accuracy: 0.7992\n",
      "Epoch 38/100\n",
      "293/293 [==============================] - 6s 19ms/step - loss: 0.4090 - accuracy: 0.8167 - val_loss: 0.4334 - val_accuracy: 0.7971\n",
      "Epoch 39/100\n",
      "293/293 [==============================] - 6s 19ms/step - loss: 0.4083 - accuracy: 0.8159 - val_loss: 0.4337 - val_accuracy: 0.7973\n",
      "Epoch 40/100\n",
      "293/293 [==============================] - 5s 19ms/step - loss: 0.4078 - accuracy: 0.8171 - val_loss: 0.4332 - val_accuracy: 0.7973\n",
      "Epoch 41/100\n",
      "293/293 [==============================] - 6s 19ms/step - loss: 0.4074 - accuracy: 0.8157 - val_loss: 0.4347 - val_accuracy: 0.8005\n",
      "Epoch 42/100\n",
      "293/293 [==============================] - 5s 18ms/step - loss: 0.4072 - accuracy: 0.8175 - val_loss: 0.4365 - val_accuracy: 0.7997\n",
      "Epoch 43/100\n",
      "293/293 [==============================] - 5s 18ms/step - loss: 0.4067 - accuracy: 0.8175 - val_loss: 0.4316 - val_accuracy: 0.7989\n",
      "Epoch 44/100\n",
      "293/293 [==============================] - 6s 20ms/step - loss: 0.4059 - accuracy: 0.8165 - val_loss: 0.4317 - val_accuracy: 0.7998\n",
      "Epoch 45/100\n",
      "293/293 [==============================] - 5s 19ms/step - loss: 0.4056 - accuracy: 0.8176 - val_loss: 0.4307 - val_accuracy: 0.8003\n",
      "Epoch 46/100\n",
      "293/293 [==============================] - 6s 19ms/step - loss: 0.4050 - accuracy: 0.8182 - val_loss: 0.4313 - val_accuracy: 0.7994\n",
      "Epoch 47/100\n",
      "293/293 [==============================] - 5s 18ms/step - loss: 0.4047 - accuracy: 0.8181 - val_loss: 0.4311 - val_accuracy: 0.8002\n",
      "Epoch 48/100\n",
      "293/293 [==============================] - 5s 18ms/step - loss: 0.4044 - accuracy: 0.8182 - val_loss: 0.4321 - val_accuracy: 0.8002\n"
     ]
    }
   ],
   "source": [
    "# 콜백 - 20번돌고나서, 가장 낮은 손실률을 저장\n",
    "check_cb=keras.callbacks.ModelCheckpoint('best-rnn.h5',save_best_only=True)\n",
    "early_cb=keras.callbacks.EarlyStopping(patience=3,restore_best_weights=True)\n",
    "\n",
    "history=model.fit(sub_seq,sub_label,epochs=100,batch_size=64,\\\n",
    "    validation_data=(val_seq,val_label),callbacks=[check_cb,early_cb])\n"
   ]
  },
  {
   "cell_type": "code",
   "execution_count": 25,
   "metadata": {},
   "outputs": [
    {
     "data": {
      "image/png": "[encoded data removed]",
      "text/plain": [
       "<Figure size 432x288 with 1 Axes>"
      ]
     },
     "metadata": {
      "needs_background": "light"
     },
     "output_type": "display_data"
    }
   ],
   "source": [
    "# 그래프 그리기\n",
    "plt.plot(history.history['loss'])\n",
    "plt.plot(history.history['val_loss'])\n",
    "plt.xlabel('epoch')\n",
    "plt.ylabel('loss')\n",
    "plt.legend(['train','test'])\n",
    "plt.show()"
   ]
  },
  {
   "cell_type": "code",
   "execution_count": 26,
   "metadata": {},
   "outputs": [
    {
     "name": "stdout",
     "output_type": "stream",
     "text": [
      "196/196 [==============================] - 1s 4ms/step - loss: 0.4307 - accuracy: 0.8003\n",
      "loss, accuracy :  [0.4307381212711334, 0.800320029258728]\n"
     ]
    }
   ],
   "source": [
    "# 정확도\n",
    "score= model.evaluate(val_seq,val_label)\n",
    "print('loss, accuracy : ', score)"
   ]
  },
  {
   "cell_type": "code",
   "execution_count": null,
   "metadata": {},
   "outputs": [],
   "source": []
  }
 ],
 "metadata": {
  "kernelspec": {
   "display_name": "Python 3.10.2 64-bit",
   "language": "python",
   "name": "python3"
  },
  "language_info": {
   "codemirror_mode": {
    "name": "ipython",
    "version": 3
   },
   "file_extension": ".py",
   "mimetype": "text/x-python",
   "name": "python",
   "nbconvert_exporter": "python",
   "pygments_lexer": "ipython3",
   "version": "3.10.2"
  },
  "orig_nbformat": 4,
  "vscode": {
   "interpreter": {
    "hash": "369f2c481f4da34e4445cda3fffd2e751bd1c4d706f27375911949ba6bb62e1c"
   }
  }
 },
 "nbformat": 4,
 "nbformat_minor": 2
}
