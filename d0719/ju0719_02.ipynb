{
 "cells": [
  {
   "cell_type": "code",
   "execution_count": 170,
   "metadata": {},
   "outputs": [],
   "source": [
    "from tensorflow import keras\n",
    "import matplotlib.pyplot as plt\n",
    "import matplotlib\n",
    "matplotlib.rcParams['axes.unicode_minus']=False\n",
    "import numpy as np\n",
    "import pandas as pd\n",
    "from sklearn.model_selection import train_test_split\n",
    "from tensorflow.keras.datasets import imdb\n",
    "import urllib.request"
   ]
  },
  {
   "cell_type": "code",
   "execution_count": 171,
   "metadata": {},
   "outputs": [],
   "source": [
    "# 1. 데이터 불러오기\n",
    "urllib.request.urlretrieve(\"https://raw.githubusercontent.com/e9t/nsmc/master/ratings_test.txt\", filename=\"ratings_test.txt\")\n",
    "urllib.request.urlretrieve(\"https://raw.githubusercontent.com/e9t/nsmc/master/ratings_train.txt\", filename=\"ratings_train.txt\")\n",
    "\n",
    "train_data=pd.read_table('ratings_train.txt')\n",
    "test_data=pd.read_table('ratings_test.txt')\n"
   ]
  },
  {
   "cell_type": "code",
   "execution_count": 172,
   "metadata": {},
   "outputs": [
    {
     "name": "stdout",
     "output_type": "stream",
     "text": [
      "              id                                           document  label\n",
      "0        9976970                                아 더빙.. 진짜 짜증나네요 목소리      0\n",
      "1        3819312                  흠...포스터보고 초딩영화줄....오버연기조차 가볍지 않구나      1\n",
      "2       10265843                                  너무재밓었다그래서보는것을추천한다      0\n",
      "3        9045019                      교도소 이야기구먼 ..솔직히 재미는 없다..평점 조정      0\n",
      "4        6483659  사이몬페그의 익살스런 연기가 돋보였던 영화!스파이더맨에서 늙어보이기만 했던 커스틴 ...      1\n",
      "...          ...                                                ...    ...\n",
      "149995   6222902                                인간이 문제지.. 소는 뭔죄인가..      0\n",
      "149996   8549745                                      평점이 너무 낮아서...      1\n",
      "149997   9311800                    이게 뭐요? 한국인은 거들먹거리고 필리핀 혼혈은 착하다?      0\n",
      "149998   2376369                        청춘 영화의 최고봉.방황과 우울했던 날들의 자화상      1\n",
      "149999   9619869                           한국 영화 최초로 수간하는 내용이 담긴 영화      0\n",
      "\n",
      "[150000 rows x 3 columns]\n"
     ]
    }
   ],
   "source": [
    "print(train_data)"
   ]
  },
  {
   "cell_type": "code",
   "execution_count": 173,
   "metadata": {},
   "outputs": [],
   "source": [
    "# 파일을 저장해서 불러오기\n",
    "# train_data.to_csv('train_data.csv')\n",
    "# test_data.to_csv('test_data.csv')"
   ]
  },
  {
   "cell_type": "code",
   "execution_count": 174,
   "metadata": {},
   "outputs": [
    {
     "name": "stdout",
     "output_type": "stream",
     "text": [
      "<class 'pandas.core.frame.DataFrame'>\n",
      "RangeIndex: 150000 entries, 0 to 149999\n",
      "Data columns (total 3 columns):\n",
      " #   Column    Non-Null Count   Dtype \n",
      "---  ------    --------------   ----- \n",
      " 0   id        150000 non-null  int64 \n",
      " 1   document  149995 non-null  object\n",
      " 2   label     150000 non-null  int64 \n",
      "dtypes: int64(2), object(1)\n",
      "memory usage: 3.4+ MB\n"
     ]
    }
   ],
   "source": [
    "train_data.info()"
   ]
  },
  {
   "cell_type": "code",
   "execution_count": 175,
   "metadata": {},
   "outputs": [
    {
     "name": "stdout",
     "output_type": "stream",
     "text": [
      "댓글개수 :  150000\n"
     ]
    }
   ],
   "source": [
    "print('댓글개수 : ',len(train_data))"
   ]
  },
  {
   "cell_type": "code",
   "execution_count": 176,
   "metadata": {},
   "outputs": [
    {
     "data": {
      "text/html": [
       "<div>\n",
       "<style scoped>\n",
       "    .dataframe tbody tr th:only-of-type {\n",
       "        vertical-align: middle;\n",
       "    }\n",
       "\n",
       "    .dataframe tbody tr th {\n",
       "        vertical-align: top;\n",
       "    }\n",
       "\n",
       "    .dataframe thead th {\n",
       "        text-align: right;\n",
       "    }\n",
       "</style>\n",
       "<table border=\"1\" class=\"dataframe\">\n",
       "  <thead>\n",
       "    <tr style=\"text-align: right;\">\n",
       "      <th></th>\n",
       "      <th>id</th>\n",
       "      <th>document</th>\n",
       "      <th>label</th>\n",
       "    </tr>\n",
       "  </thead>\n",
       "  <tbody>\n",
       "    <tr>\n",
       "      <th>0</th>\n",
       "      <td>9976970</td>\n",
       "      <td>아 더빙.. 진짜 짜증나네요 목소리</td>\n",
       "      <td>0</td>\n",
       "    </tr>\n",
       "    <tr>\n",
       "      <th>1</th>\n",
       "      <td>3819312</td>\n",
       "      <td>흠...포스터보고 초딩영화줄....오버연기조차 가볍지 않구나</td>\n",
       "      <td>1</td>\n",
       "    </tr>\n",
       "    <tr>\n",
       "      <th>2</th>\n",
       "      <td>10265843</td>\n",
       "      <td>너무재밓었다그래서보는것을추천한다</td>\n",
       "      <td>0</td>\n",
       "    </tr>\n",
       "    <tr>\n",
       "      <th>3</th>\n",
       "      <td>9045019</td>\n",
       "      <td>교도소 이야기구먼 ..솔직히 재미는 없다..평점 조정</td>\n",
       "      <td>0</td>\n",
       "    </tr>\n",
       "    <tr>\n",
       "      <th>4</th>\n",
       "      <td>6483659</td>\n",
       "      <td>사이몬페그의 익살스런 연기가 돋보였던 영화!스파이더맨에서 늙어보이기만 했던 커스틴 ...</td>\n",
       "      <td>1</td>\n",
       "    </tr>\n",
       "  </tbody>\n",
       "</table>\n",
       "</div>"
      ],
      "text/plain": [
       "         id                                           document  label\n",
       "0   9976970                                아 더빙.. 진짜 짜증나네요 목소리      0\n",
       "1   3819312                  흠...포스터보고 초딩영화줄....오버연기조차 가볍지 않구나      1\n",
       "2  10265843                                  너무재밓었다그래서보는것을추천한다      0\n",
       "3   9045019                      교도소 이야기구먼 ..솔직히 재미는 없다..평점 조정      0\n",
       "4   6483659  사이몬페그의 익살스런 연기가 돋보였던 영화!스파이더맨에서 늙어보이기만 했던 커스틴 ...      1"
      ]
     },
     "execution_count": 176,
     "metadata": {},
     "output_type": "execute_result"
    }
   ],
   "source": [
    "train_data.head()"
   ]
  },
  {
   "cell_type": "code",
   "execution_count": 177,
   "metadata": {},
   "outputs": [
    {
     "name": "stdout",
     "output_type": "stream",
     "text": [
      "test_data :  50000\n"
     ]
    }
   ],
   "source": [
    "# train_data : 150000 / test_data : 50000\n",
    "print('test_data : ',len(test_data))"
   ]
  },
  {
   "cell_type": "code",
   "execution_count": 178,
   "metadata": {},
   "outputs": [
    {
     "data": {
      "text/html": [
       "<div>\n",
       "<style scoped>\n",
       "    .dataframe tbody tr th:only-of-type {\n",
       "        vertical-align: middle;\n",
       "    }\n",
       "\n",
       "    .dataframe tbody tr th {\n",
       "        vertical-align: top;\n",
       "    }\n",
       "\n",
       "    .dataframe thead th {\n",
       "        text-align: right;\n",
       "    }\n",
       "</style>\n",
       "<table border=\"1\" class=\"dataframe\">\n",
       "  <thead>\n",
       "    <tr style=\"text-align: right;\">\n",
       "      <th></th>\n",
       "      <th>id</th>\n",
       "      <th>document</th>\n",
       "      <th>label</th>\n",
       "    </tr>\n",
       "  </thead>\n",
       "  <tbody>\n",
       "    <tr>\n",
       "      <th>0</th>\n",
       "      <td>6270596</td>\n",
       "      <td>굳 ㅋ</td>\n",
       "      <td>1</td>\n",
       "    </tr>\n",
       "    <tr>\n",
       "      <th>1</th>\n",
       "      <td>9274899</td>\n",
       "      <td>GDNTOPCLASSINTHECLUB</td>\n",
       "      <td>0</td>\n",
       "    </tr>\n",
       "    <tr>\n",
       "      <th>2</th>\n",
       "      <td>8544678</td>\n",
       "      <td>뭐야 이 평점들은.... 나쁘진 않지만 10점 짜리는 더더욱 아니잖아</td>\n",
       "      <td>0</td>\n",
       "    </tr>\n",
       "    <tr>\n",
       "      <th>3</th>\n",
       "      <td>6825595</td>\n",
       "      <td>지루하지는 않은데 완전 막장임... 돈주고 보기에는....</td>\n",
       "      <td>0</td>\n",
       "    </tr>\n",
       "    <tr>\n",
       "      <th>4</th>\n",
       "      <td>6723715</td>\n",
       "      <td>3D만 아니었어도 별 다섯 개 줬을텐데.. 왜 3D로 나와서 제 심기를 불편하게 하죠??</td>\n",
       "      <td>0</td>\n",
       "    </tr>\n",
       "  </tbody>\n",
       "</table>\n",
       "</div>"
      ],
      "text/plain": [
       "        id                                           document  label\n",
       "0  6270596                                                굳 ㅋ      1\n",
       "1  9274899                               GDNTOPCLASSINTHECLUB      0\n",
       "2  8544678             뭐야 이 평점들은.... 나쁘진 않지만 10점 짜리는 더더욱 아니잖아      0\n",
       "3  6825595                   지루하지는 않은데 완전 막장임... 돈주고 보기에는....      0\n",
       "4  6723715  3D만 아니었어도 별 다섯 개 줬을텐데.. 왜 3D로 나와서 제 심기를 불편하게 하죠??      0"
      ]
     },
     "execution_count": 178,
     "metadata": {},
     "output_type": "execute_result"
    }
   ],
   "source": [
    "test_data.head()"
   ]
  },
  {
   "cell_type": "code",
   "execution_count": 179,
   "metadata": {},
   "outputs": [
    {
     "data": {
      "text/plain": [
       "(146182, 49157)"
      ]
     },
     "execution_count": 179,
     "metadata": {},
     "output_type": "execute_result"
    }
   ],
   "source": [
    "# unique() : 중복을 제거하고 출력\n",
    "# nunique() : 중복을 제거하고 숫자를 출력\n",
    "# 150000,50000 -> 146182,49157\n",
    "train_data['document'].nunique(),test_data['document'].nunique()"
   ]
  },
  {
   "cell_type": "code",
   "execution_count": 180,
   "metadata": {},
   "outputs": [],
   "source": [
    "# document 컬럼에서 중복을 제거하고 저장\n",
    "train_data.drop_duplicates(subset=['document'],inplace=True)"
   ]
  },
  {
   "cell_type": "code",
   "execution_count": 181,
   "metadata": {},
   "outputs": [
    {
     "name": "stdout",
     "output_type": "stream",
     "text": [
      "중복제거후 개수 :  146183\n"
     ]
    }
   ],
   "source": [
    "print('중복제거후 개수 : ',len(train_data))"
   ]
  },
  {
   "cell_type": "code",
   "execution_count": 182,
   "metadata": {},
   "outputs": [
    {
     "data": {
      "text/plain": [
       "<AxesSubplot:>"
      ]
     },
     "execution_count": 182,
     "metadata": {},
     "output_type": "execute_result"
    },
    {
     "data": {
      "image/png": "[encoded data removed]",
      "text/plain": [
       "<Figure size 432x288 with 1 Axes>"
      ]
     },
     "metadata": {
      "needs_background": "light"
     },
     "output_type": "display_data"
    }
   ],
   "source": [
    "# label의 값별로 데이터의 수를 출력\n",
    "train_data['label'].value_counts().plot(kind='bar')\n"
   ]
  },
  {
   "cell_type": "code",
   "execution_count": 183,
   "metadata": {},
   "outputs": [
    {
     "data": {
      "text/html": [
       "<div>\n",
       "<style scoped>\n",
       "    .dataframe tbody tr th:only-of-type {\n",
       "        vertical-align: middle;\n",
       "    }\n",
       "\n",
       "    .dataframe tbody tr th {\n",
       "        vertical-align: top;\n",
       "    }\n",
       "\n",
       "    .dataframe thead th {\n",
       "        text-align: right;\n",
       "    }\n",
       "</style>\n",
       "<table border=\"1\" class=\"dataframe\">\n",
       "  <thead>\n",
       "    <tr style=\"text-align: right;\">\n",
       "      <th></th>\n",
       "      <th>label</th>\n",
       "      <th>count</th>\n",
       "    </tr>\n",
       "  </thead>\n",
       "  <tbody>\n",
       "    <tr>\n",
       "      <th>0</th>\n",
       "      <td>0</td>\n",
       "      <td>73342</td>\n",
       "    </tr>\n",
       "    <tr>\n",
       "      <th>1</th>\n",
       "      <td>1</td>\n",
       "      <td>72841</td>\n",
       "    </tr>\n",
       "  </tbody>\n",
       "</table>\n",
       "</div>"
      ],
      "text/plain": [
       "   label  count\n",
       "0      0  73342\n",
       "1      1  72841"
      ]
     },
     "execution_count": 183,
     "metadata": {},
     "output_type": "execute_result"
    }
   ],
   "source": [
    "# label의 값으로 개수 출력\n",
    "# 0    73342\n",
    "# 1    72841\n",
    "train_data.groupby('label').size().reset_index(name='count')"
   ]
  },
  {
   "cell_type": "code",
   "execution_count": 184,
   "metadata": {},
   "outputs": [
    {
     "data": {
      "text/plain": [
       "True"
      ]
     },
     "execution_count": 184,
     "metadata": {},
     "output_type": "execute_result"
    }
   ],
   "source": [
    "# 데이터 개수 확인\n",
    "# null개수 확인\n",
    "# train_data : null값이 있으면 True, 없으면 False\n",
    "train_data.isnull().values.any()"
   ]
  },
  {
   "cell_type": "code",
   "execution_count": 185,
   "metadata": {},
   "outputs": [
    {
     "data": {
      "text/plain": [
       "id          0\n",
       "document    1\n",
       "label       0\n",
       "dtype: int64"
      ]
     },
     "execution_count": 185,
     "metadata": {},
     "output_type": "execute_result"
    }
   ],
   "source": [
    "# null값의 개수를 알려줌    \n",
    "train_data.isnull().sum()"
   ]
  },
  {
   "cell_type": "code",
   "execution_count": 186,
   "metadata": {},
   "outputs": [
    {
     "data": {
      "text/html": [
       "<div>\n",
       "<style scoped>\n",
       "    .dataframe tbody tr th:only-of-type {\n",
       "        vertical-align: middle;\n",
       "    }\n",
       "\n",
       "    .dataframe tbody tr th {\n",
       "        vertical-align: top;\n",
       "    }\n",
       "\n",
       "    .dataframe thead th {\n",
       "        text-align: right;\n",
       "    }\n",
       "</style>\n",
       "<table border=\"1\" class=\"dataframe\">\n",
       "  <thead>\n",
       "    <tr style=\"text-align: right;\">\n",
       "      <th></th>\n",
       "      <th>id</th>\n",
       "      <th>document</th>\n",
       "      <th>label</th>\n",
       "    </tr>\n",
       "  </thead>\n",
       "  <tbody>\n",
       "    <tr>\n",
       "      <th>25857</th>\n",
       "      <td>2172111</td>\n",
       "      <td>NaN</td>\n",
       "      <td>1</td>\n",
       "    </tr>\n",
       "  </tbody>\n",
       "</table>\n",
       "</div>"
      ],
      "text/plain": [
       "            id document  label\n",
       "25857  2172111      NaN      1"
      ]
     },
     "execution_count": 186,
     "metadata": {},
     "output_type": "execute_result"
    }
   ],
   "source": [
    "# null데이터 행 출력\n",
    "train_data.loc[train_data.document.isnull()]"
   ]
  },
  {
   "cell_type": "code",
   "execution_count": 187,
   "metadata": {},
   "outputs": [],
   "source": [
    "# null 데이터의 행을 삭제\n",
    "train_data=train_data.dropna(how='any')"
   ]
  },
  {
   "cell_type": "code",
   "execution_count": 188,
   "metadata": {},
   "outputs": [
    {
     "data": {
      "text/plain": [
       "False"
      ]
     },
     "execution_count": 188,
     "metadata": {},
     "output_type": "execute_result"
    }
   ],
   "source": [
    "train_data.isnull().values.any()\n",
    "\n",
    "# False이기 때문에 null부분이 삭제가 된것을 확인할 수 있음"
   ]
  },
  {
   "cell_type": "code",
   "execution_count": 189,
   "metadata": {},
   "outputs": [
    {
     "name": "stdout",
     "output_type": "stream",
     "text": [
      "146182\n"
     ]
    }
   ],
   "source": [
    "print(len(train_data)) # 146183 -> 146182"
   ]
  },
  {
   "cell_type": "code",
   "execution_count": 190,
   "metadata": {},
   "outputs": [
    {
     "data": {
      "text/plain": [
       "'aaa bbbcd love  you i  kfaq '"
      ]
     },
     "execution_count": 190,
     "metadata": {},
     "output_type": "execute_result"
    }
   ],
   "source": [
    "# 정규표현식\n",
    "import re\n",
    "eng_txt='aaa bbbcd love 111 33you i~~~ !! kfaq, @#$'\n",
    "re.sub(r'[^a-zA-Z ]','',eng_txt)\n"
   ]
  },
  {
   "cell_type": "code",
   "execution_count": 191,
   "metadata": {},
   "outputs": [
    {
     "name": "stderr",
     "output_type": "stream",
     "text": [
      "C:\\Users\\jmpkorea13\\AppData\\Local\\Temp\\ipykernel_9100\\1214413161.py:2: FutureWarning: The default value of regex will change from True to False in a future version.\n",
      "  train_data['document'] = train_data['document'].str.replace('[^ㄱ-하-ㅣ가-힣 ]','')\n"
     ]
    },
    {
     "data": {
      "text/html": [
       "<div>\n",
       "<style scoped>\n",
       "    .dataframe tbody tr th:only-of-type {\n",
       "        vertical-align: middle;\n",
       "    }\n",
       "\n",
       "    .dataframe tbody tr th {\n",
       "        vertical-align: top;\n",
       "    }\n",
       "\n",
       "    .dataframe thead th {\n",
       "        text-align: right;\n",
       "    }\n",
       "</style>\n",
       "<table border=\"1\" class=\"dataframe\">\n",
       "  <thead>\n",
       "    <tr style=\"text-align: right;\">\n",
       "      <th></th>\n",
       "      <th>id</th>\n",
       "      <th>document</th>\n",
       "      <th>label</th>\n",
       "    </tr>\n",
       "  </thead>\n",
       "  <tbody>\n",
       "    <tr>\n",
       "      <th>0</th>\n",
       "      <td>9976970</td>\n",
       "      <td>아 더빙 진짜 짜증나네요 목소리</td>\n",
       "      <td>0</td>\n",
       "    </tr>\n",
       "    <tr>\n",
       "      <th>1</th>\n",
       "      <td>3819312</td>\n",
       "      <td>흠포스터보고 초딩영화줄오버연기조차 가볍지 않구나</td>\n",
       "      <td>1</td>\n",
       "    </tr>\n",
       "    <tr>\n",
       "      <th>2</th>\n",
       "      <td>10265843</td>\n",
       "      <td>너무재밓었다그래서보는것을추천한다</td>\n",
       "      <td>0</td>\n",
       "    </tr>\n",
       "    <tr>\n",
       "      <th>3</th>\n",
       "      <td>9045019</td>\n",
       "      <td>교도소 이야기구먼 솔직히 재미는 없다평점 조정</td>\n",
       "      <td>0</td>\n",
       "    </tr>\n",
       "    <tr>\n",
       "      <th>4</th>\n",
       "      <td>6483659</td>\n",
       "      <td>사이몬페그의 익살스런 연기가 돋보였던 영화스파이더맨에서 늙어보이기만 했던 커스틴 던...</td>\n",
       "      <td>1</td>\n",
       "    </tr>\n",
       "  </tbody>\n",
       "</table>\n",
       "</div>"
      ],
      "text/plain": [
       "         id                                           document  label\n",
       "0   9976970                                  아 더빙 진짜 짜증나네요 목소리      0\n",
       "1   3819312                         흠포스터보고 초딩영화줄오버연기조차 가볍지 않구나      1\n",
       "2  10265843                                  너무재밓었다그래서보는것을추천한다      0\n",
       "3   9045019                          교도소 이야기구먼 솔직히 재미는 없다평점 조정      0\n",
       "4   6483659  사이몬페그의 익살스런 연기가 돋보였던 영화스파이더맨에서 늙어보이기만 했던 커스틴 던...      1"
      ]
     },
     "execution_count": 191,
     "metadata": {},
     "output_type": "execute_result"
    }
   ],
   "source": [
    "# 한글만 제외하고 모두 삭제처리 \n",
    "train_data['document'] = train_data['document'].str.replace('[^ㄱ-하-ㅣ가-힣 ]','')\n",
    "train_data[:5]\n",
    "# train_data.head()"
   ]
  },
  {
   "cell_type": "code",
   "execution_count": 192,
   "metadata": {},
   "outputs": [
    {
     "name": "stderr",
     "output_type": "stream",
     "text": [
      "C:\\Users\\jmpkorea13\\AppData\\Local\\Temp\\ipykernel_9100\\3420146498.py:2: FutureWarning: The default value of regex will change from True to False in a future version.\n",
      "  train_data['document'] = train_data['document'].str.replace('^ +','')\n"
     ]
    }
   ],
   "source": [
    "# replace 하면 빈공백만 존재하는 데이터가 존재할 수 있음 ; 행\n",
    "train_data['document'] = train_data['document'].str.replace('^ +','')\n"
   ]
  },
  {
   "cell_type": "code",
   "execution_count": 193,
   "metadata": {},
   "outputs": [
    {
     "data": {
      "text/plain": [
       "id            0\n",
       "document    747\n",
       "label         0\n",
       "dtype: int64"
      ]
     },
     "execution_count": 193,
     "metadata": {},
     "output_type": "execute_result"
    }
   ],
   "source": [
    "# '   ' 빈공백 -> null 변경\n",
    "train_data['document'].replace('',np.nan,inplace=True)\n",
    "# null데이터 개수\n",
    "train_data.isnull().sum()\n"
   ]
  },
  {
   "cell_type": "code",
   "execution_count": 194,
   "metadata": {},
   "outputs": [
    {
     "data": {
      "text/html": [
       "<div>\n",
       "<style scoped>\n",
       "    .dataframe tbody tr th:only-of-type {\n",
       "        vertical-align: middle;\n",
       "    }\n",
       "\n",
       "    .dataframe tbody tr th {\n",
       "        vertical-align: top;\n",
       "    }\n",
       "\n",
       "    .dataframe thead th {\n",
       "        text-align: right;\n",
       "    }\n",
       "</style>\n",
       "<table border=\"1\" class=\"dataframe\">\n",
       "  <thead>\n",
       "    <tr style=\"text-align: right;\">\n",
       "      <th></th>\n",
       "      <th>id</th>\n",
       "      <th>document</th>\n",
       "      <th>label</th>\n",
       "    </tr>\n",
       "  </thead>\n",
       "  <tbody>\n",
       "    <tr>\n",
       "      <th>404</th>\n",
       "      <td>4221289</td>\n",
       "      <td>NaN</td>\n",
       "      <td>0</td>\n",
       "    </tr>\n",
       "    <tr>\n",
       "      <th>412</th>\n",
       "      <td>9509970</td>\n",
       "      <td>NaN</td>\n",
       "      <td>1</td>\n",
       "    </tr>\n",
       "    <tr>\n",
       "      <th>470</th>\n",
       "      <td>10147571</td>\n",
       "      <td>NaN</td>\n",
       "      <td>1</td>\n",
       "    </tr>\n",
       "    <tr>\n",
       "      <th>584</th>\n",
       "      <td>7117896</td>\n",
       "      <td>NaN</td>\n",
       "      <td>0</td>\n",
       "    </tr>\n",
       "    <tr>\n",
       "      <th>593</th>\n",
       "      <td>6478189</td>\n",
       "      <td>NaN</td>\n",
       "      <td>0</td>\n",
       "    </tr>\n",
       "  </tbody>\n",
       "</table>\n",
       "</div>"
      ],
      "text/plain": [
       "           id document  label\n",
       "404   4221289      NaN      0\n",
       "412   9509970      NaN      1\n",
       "470  10147571      NaN      1\n",
       "584   7117896      NaN      0\n",
       "593   6478189      NaN      0"
      ]
     },
     "execution_count": 194,
     "metadata": {},
     "output_type": "execute_result"
    }
   ],
   "source": [
    "train_data.loc[train_data.document.isnull()][:5]"
   ]
  },
  {
   "cell_type": "code",
   "execution_count": 195,
   "metadata": {},
   "outputs": [
    {
     "name": "stdout",
     "output_type": "stream",
     "text": [
      "145435\n"
     ]
    }
   ],
   "source": [
    "# null 삭제\n",
    "# 145435\n",
    "train_data=train_data.dropna(how='any')\n",
    "print(len(train_data))"
   ]
  },
  {
   "cell_type": "code",
   "execution_count": 196,
   "metadata": {},
   "outputs": [],
   "source": [
    "# document 컬럼에서 중복을 제거하고 저장\n",
    "test_data.drop_duplicates(subset=['document'],inplace=True)"
   ]
  },
  {
   "cell_type": "code",
   "execution_count": 197,
   "metadata": {},
   "outputs": [
    {
     "name": "stdout",
     "output_type": "stream",
     "text": [
      "중복제거후 개수 :  49158\n"
     ]
    }
   ],
   "source": [
    "print('중복제거후 개수 : ',len(test_data))"
   ]
  },
  {
   "cell_type": "code",
   "execution_count": 198,
   "metadata": {},
   "outputs": [],
   "source": [
    "# null삭제\n",
    "test_data.isnull().values.any()\n",
    "test_data.loc[test_data.document.isnull()]\n",
    "test_data=test_data.dropna(how='any')"
   ]
  },
  {
   "cell_type": "code",
   "execution_count": 199,
   "metadata": {},
   "outputs": [
    {
     "data": {
      "text/plain": [
       "False"
      ]
     },
     "execution_count": 199,
     "metadata": {},
     "output_type": "execute_result"
    }
   ],
   "source": [
    "test_data.isnull().values.any()"
   ]
  },
  {
   "cell_type": "code",
   "execution_count": 200,
   "metadata": {},
   "outputs": [
    {
     "name": "stderr",
     "output_type": "stream",
     "text": [
      "C:\\Users\\jmpkorea13\\AppData\\Local\\Temp\\ipykernel_9100\\3492382732.py:4: FutureWarning: The default value of regex will change from True to False in a future version.\n",
      "  test_data['document']=test_data['document'].str.replace('^ㄱ-하-ㅣ가-힣 ','')\n"
     ]
    }
   ],
   "source": [
    "# 정규표현식\n",
    "import re\n",
    "\n",
    "test_data['document']=test_data['document'].str.replace('^ㄱ-하-ㅣ가-힣 ','')\n"
   ]
  },
  {
   "cell_type": "code",
   "execution_count": 201,
   "metadata": {},
   "outputs": [
    {
     "name": "stderr",
     "output_type": "stream",
     "text": [
      "C:\\Users\\jmpkorea13\\AppData\\Local\\Temp\\ipykernel_9100\\3376817057.py:2: FutureWarning: The default value of regex will change from True to False in a future version.\n",
      "  test_data['document'] = test_data['document'].str.replace('^ +','')\n"
     ]
    }
   ],
   "source": [
    "# replace 하면 빈공백만 존재하는 데이터가 존재할 수 있음 ; 행\n",
    "test_data['document'] = test_data['document'].str.replace('^ +','')\n"
   ]
  },
  {
   "cell_type": "code",
   "execution_count": 202,
   "metadata": {},
   "outputs": [
    {
     "data": {
      "text/plain": [
       "id          0\n",
       "document    0\n",
       "label       0\n",
       "dtype: int64"
      ]
     },
     "execution_count": 202,
     "metadata": {},
     "output_type": "execute_result"
    }
   ],
   "source": [
    "# '   ' 빈공백 -> null 변경\n",
    "test_data['document'].replace('',np.nan,inplace=True)\n",
    "# null데이터 개수\n",
    "test_data.isnull().sum()"
   ]
  },
  {
   "cell_type": "code",
   "execution_count": 203,
   "metadata": {},
   "outputs": [
    {
     "name": "stdout",
     "output_type": "stream",
     "text": [
      "49157\n"
     ]
    }
   ],
   "source": [
    "# null 삭제\n",
    "# 145435\n",
    "test_data=test_data.dropna(how='any')\n",
    "print(len(test_data))"
   ]
  },
  {
   "cell_type": "markdown",
   "metadata": {},
   "source": [
    "## 형태소분석"
   ]
  },
  {
   "cell_type": "code",
   "execution_count": 204,
   "metadata": {},
   "outputs": [],
   "source": [
    "stopwords = ['의','가','이','은','들','는','좀','잘','걍','과','도','를','으로','자','에','와','한','하다']"
   ]
  },
  {
   "cell_type": "code",
   "execution_count": 205,
   "metadata": {},
   "outputs": [
    {
     "data": {
      "text/plain": [
       "['오다', '이렇다', '것', '도', '영화', '라고', '차라리', '뮤직비디오', '를', '만들다', '게', '나다', '뻔']"
      ]
     },
     "execution_count": 205,
     "metadata": {},
     "output_type": "execute_result"
    }
   ],
   "source": [
    "from konlpy.tag import Okt\n",
    "okt=Okt()\n",
    "okt.morphs('와 이런 것도 영화라고 차라리 뮤직비디오를 만드는 게 나을 뻔',stem=True)"
   ]
  },
  {
   "cell_type": "code",
   "execution_count": 206,
   "metadata": {},
   "outputs": [
    {
     "name": "stderr",
     "output_type": "stream",
     "text": [
      "100%|██████████| 145435/145435 [05:23<00:00, 449.62it/s]\n"
     ]
    }
   ],
   "source": [
    "from tqdm import tqdm\n",
    "# tqdm : 진행바를 출력\n",
    "X_train=[]\n",
    "# train_data['document'] 대략 14만개\n",
    "for sentence in tqdm(train_data['document']):\n",
    "    token_sentence = okt.morphs(sentence,stem=True)\n",
    "    # 불용어 제거\n",
    "    stopwords_re_sentence=[word for word in token_sentence if not word in stopwords]\n",
    "    # X_train : 추가\n",
    "    X_train.append(stopwords_re_sentence)"
   ]
  },
  {
   "cell_type": "code",
   "execution_count": 207,
   "metadata": {},
   "outputs": [
    {
     "name": "stdout",
     "output_type": "stream",
     "text": [
      "[['아', '더빙', '진짜', '짜증나다', '목소리'], ['흠', '포스터', '보고', '초딩', '영화', '줄', '오버', '연기', '조차', '가볍다', '않다'], ['너', '무재', '밓었', '다그', '래서', '보다', '추천', '다'], ['교도소', '이야기', '구먼', '솔직하다', '재미', '없다', '평점', '조정'], ['사이', '몬페', '그', '익살스럽다', '연기', '돋보이다', '영화', '스파이더맨', '에서', '늙다', '보이다', '커스틴', '던스트', '너무나도', '이쁘다', '보이다']]\n"
     ]
    }
   ],
   "source": [
    "print(X_train[:5])"
   ]
  },
  {
   "cell_type": "code",
   "execution_count": 208,
   "metadata": {},
   "outputs": [
    {
     "name": "stderr",
     "output_type": "stream",
     "text": [
      "100%|██████████| 49157/49157 [01:46<00:00, 463.27it/s]\n"
     ]
    }
   ],
   "source": [
    "from tqdm import tqdm\n",
    "# tqdm : 진행바를 출력\n",
    "X_test=[]\n",
    "# train_data['document'] 대략 14만개\n",
    "for sentence in tqdm(test_data['document']):\n",
    "    token_sentence = okt.morphs(sentence,stem=True)\n",
    "    # 불용어 제거\n",
    "    stopwords_re_sentence=[word for word in token_sentence if not word in stopwords]\n",
    "    # X_train : 추가\n",
    "    X_test.append(stopwords_re_sentence)"
   ]
  },
  {
   "cell_type": "code",
   "execution_count": 209,
   "metadata": {},
   "outputs": [
    {
     "data": {
      "text/plain": [
       "[['굳다', 'ㅋ'],\n",
       " ['GDNTOPCLASSINTHECLUB'],\n",
       " ['뭐', '야', '평점', '....', '나쁘다', '않다', '10', '점', '짜다', '리', '더', '더욱', '아니다'],\n",
       " ['지루하다', '않다', '완전', '막장', '임', '...', '돈', '주다', '보기', '에는', '....'],\n",
       " ['3',\n",
       "  'D',\n",
       "  '만',\n",
       "  '아니다',\n",
       "  '별',\n",
       "  '다섯',\n",
       "  '개',\n",
       "  '주다',\n",
       "  '..',\n",
       "  '왜',\n",
       "  '3',\n",
       "  'D',\n",
       "  '로',\n",
       "  '나오다',\n",
       "  '제',\n",
       "  '심기',\n",
       "  '불편하다',\n",
       "  '??']]"
      ]
     },
     "execution_count": 209,
     "metadata": {},
     "output_type": "execute_result"
    }
   ],
   "source": [
    "X_test[:5]"
   ]
  },
  {
   "cell_type": "markdown",
   "metadata": {},
   "source": [
    "## 단어에 번호 부여 = Tokenizer()"
   ]
  },
  {
   "cell_type": "code",
   "execution_count": 210,
   "metadata": {},
   "outputs": [],
   "source": [
    "# 정수인코딩 - 단어 빈도가 높은 순서부터 번호를 부여\n",
    "from tensorflow.keras.preprocessing.text import Tokenizer\n",
    "tokenizer = Tokenizer()\n",
    "# 번호 부여, 횟수가 많은 순서부터 번호를 매김\n",
    "tokenizer.fit_on_texts(X_train)"
   ]
  },
  {
   "cell_type": "code",
   "execution_count": 211,
   "metadata": {},
   "outputs": [],
   "source": [
    "# 글자 : 순번\n",
    "# print(tokenizer.word_index)"
   ]
  },
  {
   "cell_type": "code",
   "execution_count": 212,
   "metadata": {},
   "outputs": [
    {
     "name": "stdout",
     "output_type": "stream",
     "text": [
      "단어 총 개수 :  43887\n",
      "3번 미만의 단어집합의 비율 :  55.71353703830292\n"
     ]
    }
   ],
   "source": [
    "# # 글자 : 횟수\n",
    "# tokenizer.word_counts.items()\n",
    "total_freg=0\n",
    "rare_cnt=0\n",
    "rare_freg=0\n",
    "total_cnt=len(tokenizer.word_index) # 단어의 수 43752\n",
    "for key,value in tokenizer.word_counts.items():  \n",
    "    total_freg=total_freg + value # 단어가 나온 총 횟수\n",
    "    # 나온 횟수가 3번 미만인 경우\n",
    "    if (value < 3):\n",
    "        rare_cnt=rare_cnt+1\n",
    "        rare_freg=rare_freg + value\n",
    "\n",
    "print('단어 총 개수 : ',total_cnt)\n",
    "print('3번 미만의 단어집합의 비율 : ',(rare_cnt/total_cnt)*100)\n"
   ]
  },
  {
   "cell_type": "code",
   "execution_count": 213,
   "metadata": {},
   "outputs": [
    {
     "name": "stdout",
     "output_type": "stream",
     "text": [
      "단어집합의 크기 :  19437\n"
     ]
    }
   ],
   "source": [
    "# 2번 이하 나온 단어를 제외한 단어집합의 크기 : 19437\n",
    "vocab_size=total_cnt-rare_cnt+1\n",
    "print('단어집합의 크기 : ',vocab_size)"
   ]
  },
  {
   "cell_type": "code",
   "execution_count": 214,
   "metadata": {},
   "outputs": [],
   "source": [
    "# 19437\n",
    "tokenizer=Tokenizer(vocab_size)\n",
    "# 단어에 번호를 부여\n",
    "tokenizer.fit_on_texts(X_train)\n",
    "# 부여받은 단어를 가지고, train,test 데이터의 document 내용을 번호로 변경\n",
    "X_train=tokenizer.texts_to_sequences(X_train)\n",
    "X_test=tokenizer.texts_to_sequences(X_test)"
   ]
  },
  {
   "cell_type": "code",
   "execution_count": 215,
   "metadata": {},
   "outputs": [
    {
     "name": "stdout",
     "output_type": "stream",
     "text": [
      "[[50, 457, 16, 261, 661], [935, 459, 41, 604, 1, 215, 1451, 24, 963, 677, 19], [388, 2446, 2317, 5673, 2, 223, 9]]\n"
     ]
    }
   ],
   "source": [
    "# X_train글자가 번호로 변경되어 출력\n",
    "print(X_train[:3])"
   ]
  },
  {
   "cell_type": "code",
   "execution_count": 216,
   "metadata": {},
   "outputs": [],
   "source": [
    "# label 값 분리\n",
    "y_train=np.array(train_data['label'])\n",
    "y_test=np.array(test_data['label'])"
   ]
  },
  {
   "cell_type": "code",
   "execution_count": 217,
   "metadata": {},
   "outputs": [],
   "source": [
    "# 빈샘플 제거 - len(X_train) <1 이하는 제거\n",
    "# for len(X_train) "
   ]
  },
  {
   "cell_type": "code",
   "execution_count": 218,
   "metadata": {},
   "outputs": [
    {
     "name": "stdout",
     "output_type": "stream",
     "text": [
      "최대길이 :  69\n",
      "평균길이 :  10.808120466187644\n"
     ]
    }
   ],
   "source": [
    "# 최대길이 : 69, 평균길이 : 10.808\n",
    "print('최대길이 : ',max(len(review) for review in X_train))\n",
    "print('평균길이 : ',sum(map(len,X_train))/len(X_train))"
   ]
  },
  {
   "cell_type": "code",
   "execution_count": 219,
   "metadata": {},
   "outputs": [
    {
     "data": {
      "image/png": "[encoded data removed]",
      "text/plain": [
       "<Figure size 432x288 with 1 Axes>"
      ]
     },
     "metadata": {
      "needs_background": "light"
     },
     "output_type": "display_data"
    }
   ],
   "source": [
    "plt.hist([len(review) for review in X_train],bins=50)\n",
    "plt.show()"
   ]
  },
  {
   "cell_type": "code",
   "execution_count": 220,
   "metadata": {},
   "outputs": [],
   "source": [
    "# 패딩\n",
    "from tensorflow.keras.preprocessing.sequence import pad_sequences\n",
    "X_train=pad_sequences(X_train,maxlen=30)\n",
    "X_test=pad_sequences(X_test,maxlen=30)"
   ]
  },
  {
   "cell_type": "code",
   "execution_count": 225,
   "metadata": {},
   "outputs": [],
   "source": [
    "\n",
    "# 순환 신경망 선언\n",
    "model=keras.Sequential()\n",
    "model.add(keras.layers.Embedding(vocab_size,100,input_length=30))\n",
    "# LSTM\n",
    "model.add(keras.layers.LSTM(128,dropout=0.3,return_sequences=True))\n",
    "model.add(keras.layers.LSTM(128,dropout=0.3))\n",
    "model.add(keras.layers.Dense(1, activation='sigmoid'))\n"
   ]
  },
  {
   "cell_type": "code",
   "execution_count": 226,
   "metadata": {},
   "outputs": [],
   "source": [
    "# 순환신경망 설정 adam, RMSprop\n",
    "rmsprop=keras.optimizers.RMSprop(learning_rate=1e-4)\n",
    "model.compile(optimizer=rmsprop,loss='binary_crossentropy',metrics='accuracy')\n"
   ]
  },
  {
   "cell_type": "code",
   "execution_count": 227,
   "metadata": {},
   "outputs": [
    {
     "name": "stdout",
     "output_type": "stream",
     "text": [
      "Epoch 1/20\n",
      "2273/2273 [==============================] - 120s 51ms/step - loss: 0.4896 - accuracy: 0.7539 - val_loss: 0.3961 - val_accuracy: 0.8215\n",
      "Epoch 2/20\n",
      "2273/2273 [==============================] - 123s 54ms/step - loss: 0.3780 - accuracy: 0.8301 - val_loss: 0.3787 - val_accuracy: 0.8302\n",
      "Epoch 3/20\n",
      "2273/2273 [==============================] - 126s 56ms/step - loss: 0.3628 - accuracy: 0.8397 - val_loss: 0.3758 - val_accuracy: 0.8334\n",
      "Epoch 4/20\n",
      "2273/2273 [==============================] - 129s 57ms/step - loss: 0.3554 - accuracy: 0.8435 - val_loss: 0.3717 - val_accuracy: 0.8342\n",
      "Epoch 5/20\n",
      "2273/2273 [==============================] - 126s 56ms/step - loss: 0.3504 - accuracy: 0.8460 - val_loss: 0.3679 - val_accuracy: 0.8354\n",
      "Epoch 6/20\n",
      "2273/2273 [==============================] - 137s 60ms/step - loss: 0.3462 - accuracy: 0.8476 - val_loss: 0.3634 - val_accuracy: 0.8374\n",
      "Epoch 7/20\n",
      "2273/2273 [==============================] - 125s 55ms/step - loss: 0.3409 - accuracy: 0.8500 - val_loss: 0.3590 - val_accuracy: 0.8396\n",
      "Epoch 8/20\n",
      "2273/2273 [==============================] - 124s 54ms/step - loss: 0.3358 - accuracy: 0.8531 - val_loss: 0.3645 - val_accuracy: 0.8387\n",
      "Epoch 9/20\n",
      "2273/2273 [==============================] - 129s 57ms/step - loss: 0.3311 - accuracy: 0.8556 - val_loss: 0.3572 - val_accuracy: 0.8404\n",
      "Epoch 10/20\n",
      "2273/2273 [==============================] - 130s 57ms/step - loss: 0.3265 - accuracy: 0.8575 - val_loss: 0.3499 - val_accuracy: 0.8436\n",
      "Epoch 11/20\n",
      "2273/2273 [==============================] - 133s 59ms/step - loss: 0.3218 - accuracy: 0.8611 - val_loss: 0.3500 - val_accuracy: 0.8452\n",
      "Epoch 12/20\n",
      "2273/2273 [==============================] - 138s 61ms/step - loss: 0.3177 - accuracy: 0.8626 - val_loss: 0.3456 - val_accuracy: 0.8465\n",
      "Epoch 13/20\n",
      "2273/2273 [==============================] - 138s 61ms/step - loss: 0.3141 - accuracy: 0.8646 - val_loss: 0.3456 - val_accuracy: 0.8479\n",
      "Epoch 14/20\n",
      "2273/2273 [==============================] - 138s 61ms/step - loss: 0.3109 - accuracy: 0.8667 - val_loss: 0.3463 - val_accuracy: 0.8486\n",
      "Epoch 15/20\n",
      "2273/2273 [==============================] - 141s 62ms/step - loss: 0.3077 - accuracy: 0.8684 - val_loss: 0.3456 - val_accuracy: 0.8483\n",
      "Epoch 16/20\n",
      "2273/2273 [==============================] - 144s 63ms/step - loss: 0.3053 - accuracy: 0.8705 - val_loss: 0.3425 - val_accuracy: 0.8505\n",
      "Epoch 17/20\n",
      "2273/2273 [==============================] - 144s 63ms/step - loss: 0.3026 - accuracy: 0.8710 - val_loss: 0.3415 - val_accuracy: 0.8506\n",
      "Epoch 18/20\n",
      "2273/2273 [==============================] - 148s 65ms/step - loss: 0.3002 - accuracy: 0.8731 - val_loss: 0.3398 - val_accuracy: 0.8507\n",
      "Epoch 19/20\n",
      "2273/2273 [==============================] - 150s 66ms/step - loss: 0.2977 - accuracy: 0.8747 - val_loss: 0.3416 - val_accuracy: 0.8519\n",
      "Epoch 20/20\n",
      "2273/2273 [==============================] - 152s 67ms/step - loss: 0.2952 - accuracy: 0.8759 - val_loss: 0.3432 - val_accuracy: 0.8499\n"
     ]
    }
   ],
   "source": [
    "# 콜백 - 20번돌고나서, 가장 낮은 손실률을 저장\n",
    "check_cb=keras.callbacks.ModelCheckpoint('naver-lstm.h5',save_best_only=True)\n",
    "early_cb=keras.callbacks.EarlyStopping(patience=3,restore_best_weights=True)\n",
    "\n",
    "history=model.fit(X_train,y_train,epochs=20,batch_size=64,\\\n",
    "    validation_data=(X_test,y_test),callbacks=[check_cb,early_cb])\n"
   ]
  },
  {
   "cell_type": "code",
   "execution_count": 228,
   "metadata": {},
   "outputs": [
    {
     "data": {
      "image/png": "[encoded data removed]",
      "text/plain": [
       "<Figure size 432x288 with 1 Axes>"
      ]
     },
     "metadata": {
      "needs_background": "light"
     },
     "output_type": "display_data"
    }
   ],
   "source": [
    "# 그래프 그리기\n",
    "plt.plot(history.history['loss'])\n",
    "plt.plot(history.history['val_loss'])\n",
    "plt.xlabel('epoch')\n",
    "plt.ylabel('loss')\n",
    "plt.legend(['train','test'])\n",
    "plt.show()"
   ]
  },
  {
   "cell_type": "code",
   "execution_count": 229,
   "metadata": {},
   "outputs": [
    {
     "name": "stdout",
     "output_type": "stream",
     "text": [
      "1537/1537 [==============================] - 16s 11ms/step - loss: 0.3432 - accuracy: 0.8499\n",
      "loss, accuracy :  [0.34319403767585754, 0.8499298095703125]\n"
     ]
    }
   ],
   "source": [
    "# 정확도\n",
    "score= model.evaluate(X_test,y_test)\n",
    "print('loss, accuracy : ', score)\n"
   ]
  },
  {
   "cell_type": "code",
   "execution_count": 230,
   "metadata": {},
   "outputs": [],
   "source": [
    "loaded_model=keras.models.load_model('naver-lstm.h5')"
   ]
  },
  {
   "cell_type": "code",
   "execution_count": 231,
   "metadata": {},
   "outputs": [],
   "source": [
    "# 데이터 전처리 함수\n",
    "def txt_predict(new_sentence):\n",
    "    # 1. 한글처리\n",
    "    new_sentence=re.sub(r'[^ㄱ-하-ㅣ가-힣]','',new_sentence)\n",
    "    # 2. 형태소 분석\n",
    "    new_sentence=okt.morphs(new_sentence,stem=True)\n",
    "    # 3. 불용어 제거\n",
    "    new_sentence = [word for word in new_sentence if not word in stopwords]\n",
    "    # 4. 단어를 번호로 변경\n",
    "    encoded=tokenizer.texts_to_sequences([new_sentence])\n",
    "    # 5. 패딩\n",
    "    pad_new=pad_sequences(encoded,maxlen=30)\n",
    "    # 6. 예측\n",
    "    score=float(loaded_model.predict(pad_new))\n",
    "    if(score>0.5):\n",
    "        print('{:.2f} 확률로 긍정 리뷰입니다.'.format(score*100))\n",
    "    else:\n",
    "        print('{:.2f} 확률로 부정 리뷰입니다.'.format((1-score)*100))"
   ]
  },
  {
   "cell_type": "code",
   "execution_count": 232,
   "metadata": {},
   "outputs": [
    {
     "name": "stdout",
     "output_type": "stream",
     "text": [
      "1/1 [==============================] - 1s 576ms/step\n",
      "97.43 확률로 긍정 리뷰입니다.\n"
     ]
    }
   ],
   "source": [
    "# 1개를 입력받음\n",
    "txt='이 영화 너무 재미있음'\n",
    "txt_predict(txt)"
   ]
  },
  {
   "cell_type": "code",
   "execution_count": 233,
   "metadata": {},
   "outputs": [
    {
     "name": "stdout",
     "output_type": "stream",
     "text": [
      "1/1 [==============================] - 0s 16ms/step\n",
      "99.07 확률로 부정 리뷰입니다.\n"
     ]
    }
   ],
   "source": [
    "txt2='이딴게 영화야~ 감독바꿔'\n",
    "txt_predict(txt2)"
   ]
  },
  {
   "cell_type": "code",
   "execution_count": null,
   "metadata": {},
   "outputs": [],
   "source": []
  }
 ],
 "metadata": {
  "kernelspec": {
   "display_name": "Python 3.10.2 64-bit",
   "language": "python",
   "name": "python3"
  },
  "language_info": {
   "codemirror_mode": {
    "name": "ipython",
    "version": 3
   },
   "file_extension": ".py",
   "mimetype": "text/x-python",
   "name": "python",
   "nbconvert_exporter": "python",
   "pygments_lexer": "ipython3",
   "version": "3.10.2"
  },
  "orig_nbformat": 4,
  "vscode": {
   "interpreter": {
    "hash": "369f2c481f4da34e4445cda3fffd2e751bd1c4d706f27375911949ba6bb62e1c"
   }
  }
 },
 "nbformat": 4,
 "nbformat_minor": 2
}
