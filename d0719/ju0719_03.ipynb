{
 "cells": [
  {
   "cell_type": "code",
   "execution_count": 21,
   "metadata": {},
   "outputs": [],
   "source": [
    "from tensorflow import keras\n",
    "import matplotlib.pyplot as plt\n",
    "import matplotlib\n",
    "matplotlib.rcParams['axes.unicode_minus']=False\n",
    "import numpy as np\n",
    "import pandas as pd\n",
    "from sklearn.model_selection import train_test_split"
   ]
  },
  {
   "cell_type": "code",
   "execution_count": 22,
   "metadata": {},
   "outputs": [],
   "source": [
    "# 데이터 불러오기\n",
    "(train_data,train_label),(test_data,test_label)=keras.datasets.fashion_mnist.load_data()"
   ]
  },
  {
   "cell_type": "code",
   "execution_count": 23,
   "metadata": {},
   "outputs": [
    {
     "data": {
      "text/plain": [
       "(60000, 28, 28)"
      ]
     },
     "execution_count": 23,
     "metadata": {},
     "output_type": "execute_result"
    }
   ],
   "source": [
    "# (60000, 28, 28)\n",
    "train_data.shape"
   ]
  },
  {
   "cell_type": "code",
   "execution_count": 24,
   "metadata": {},
   "outputs": [],
   "source": [
    "# 3차원 데이터 변환\n",
    "# (60000, 28, 28, 1)\n",
    "train_scaled=train_data.reshape(-1,28,28,1)\n",
    "test_scaled=test_data.reshape(-1,28,28,1)\n"
   ]
  },
  {
   "cell_type": "code",
   "execution_count": 25,
   "metadata": {},
   "outputs": [],
   "source": [
    "train_scaled=train_scaled/255.0\n",
    "test_scaled=test_scaled/255.0"
   ]
  },
  {
   "cell_type": "code",
   "execution_count": 26,
   "metadata": {},
   "outputs": [
    {
     "data": {
      "text/plain": [
       "((45000, 28, 28, 1), (15000, 28, 28, 1))"
      ]
     },
     "execution_count": 26,
     "metadata": {},
     "output_type": "execute_result"
    }
   ],
   "source": [
    "sub_data,val_data,sub_label,val_label=train_test_split(train_scaled,train_label)\n",
    "sub_data.shape,val_data.shape"
   ]
  },
  {
   "cell_type": "code",
   "execution_count": 27,
   "metadata": {},
   "outputs": [],
   "source": [
    "# 합성곱 신경망 선언\n",
    "model=keras.Sequential()\n",
    "\n",
    "# CNN\n",
    "model.add(keras.layers.Conv2D(32,kernel_size=3,activation='relu',padding='same',input_shape=(28,28,1)))\n",
    "# 최대풀링\n",
    "model.add(keras.layers.MaxPool2D(2))\n",
    "# CNN - 두번째 합성곱\n",
    "model.add(keras.layers.Conv2D(64,kernel_size=3,activation='relu',padding='same'))\n",
    "# 최대풀링\n",
    "model.add(keras.layers.MaxPool2D(2))"
   ]
  },
  {
   "cell_type": "code",
   "execution_count": 28,
   "metadata": {},
   "outputs": [],
   "source": [
    "# 인공신경망의 선언\n",
    "model.add(keras.layers.Flatten())\n",
    "model.add(keras.layers.Dense(100,activation='relu'))\n",
    "model.add(keras.layers.Dropout(0.4))\n",
    "model.add(keras.layers.Dense(10,activation='softmax'))"
   ]
  },
  {
   "cell_type": "code",
   "execution_count": 29,
   "metadata": {},
   "outputs": [
    {
     "name": "stdout",
     "output_type": "stream",
     "text": [
      "Model: \"sequential_2\"\n",
      "_________________________________________________________________\n",
      " Layer (type)                Output Shape              Param #   \n",
      "=================================================================\n",
      " conv2d_4 (Conv2D)           (None, 28, 28, 32)        320       \n",
      "                                                                 \n",
      " max_pooling2d_4 (MaxPooling  (None, 14, 14, 32)       0         \n",
      " 2D)                                                             \n",
      "                                                                 \n",
      " conv2d_5 (Conv2D)           (None, 14, 14, 64)        18496     \n",
      "                                                                 \n",
      " max_pooling2d_5 (MaxPooling  (None, 7, 7, 64)         0         \n",
      " 2D)                                                             \n",
      "                                                                 \n",
      " flatten_2 (Flatten)         (None, 3136)              0         \n",
      "                                                                 \n",
      " dense_4 (Dense)             (None, 100)               313700    \n",
      "                                                                 \n",
      " dropout_2 (Dropout)         (None, 100)               0         \n",
      "                                                                 \n",
      " dense_5 (Dense)             (None, 10)                1010      \n",
      "                                                                 \n",
      "=================================================================\n",
      "Total params: 333,526\n",
      "Trainable params: 333,526\n",
      "Non-trainable params: 0\n",
      "_________________________________________________________________\n"
     ]
    }
   ],
   "source": [
    "model.summary()"
   ]
  },
  {
   "cell_type": "code",
   "execution_count": 30,
   "metadata": {},
   "outputs": [],
   "source": [
    "# from tensorflow.keras.utils import plot_model\n",
    "# keras.utils.plot_model(model,show_shapes=True)"
   ]
  },
  {
   "cell_type": "code",
   "execution_count": 31,
   "metadata": {},
   "outputs": [],
   "source": [
    "# 모델 훈련\n",
    "# 순환신경망 설정 adam, RMSprop\n",
    "rmsprop=keras.optimizers.RMSprop(learning_rate=1e-4)\n",
    "model.compile(optimizer=rmsprop,loss='sparse_categorical_crossentropy',metrics='accuracy')\n"
   ]
  },
  {
   "cell_type": "code",
   "execution_count": 32,
   "metadata": {},
   "outputs": [],
   "source": [
    "# 콜백 - 20번돌고나서, 가장 낮은 손실률을 저장\n",
    "check_cb=keras.callbacks.ModelCheckpoint('cnn-test.h5',save_best_only=True)\n",
    "early_cb=keras.callbacks.EarlyStopping(patience=3,restore_best_weights=True)\n"
   ]
  },
  {
   "cell_type": "code",
   "execution_count": 33,
   "metadata": {},
   "outputs": [
    {
     "name": "stdout",
     "output_type": "stream",
     "text": [
      "Epoch 1/20\n",
      "704/704 [==============================] - 17s 23ms/step - loss: 0.9223 - accuracy: 0.6794 - val_loss: 0.6307 - val_accuracy: 0.7657\n",
      "Epoch 2/20\n",
      "704/704 [==============================] - 17s 24ms/step - loss: 0.5763 - accuracy: 0.7920 - val_loss: 0.4637 - val_accuracy: 0.8314\n",
      "Epoch 3/20\n",
      "704/704 [==============================] - 17s 24ms/step - loss: 0.5008 - accuracy: 0.8233 - val_loss: 0.4217 - val_accuracy: 0.8480\n",
      "Epoch 4/20\n",
      "704/704 [==============================] - 16s 23ms/step - loss: 0.4583 - accuracy: 0.8387 - val_loss: 0.3913 - val_accuracy: 0.8623\n",
      "Epoch 5/20\n",
      "704/704 [==============================] - 16s 23ms/step - loss: 0.4283 - accuracy: 0.8481 - val_loss: 0.3836 - val_accuracy: 0.8615\n",
      "Epoch 6/20\n",
      "704/704 [==============================] - 16s 23ms/step - loss: 0.4083 - accuracy: 0.8554 - val_loss: 0.3659 - val_accuracy: 0.8665\n",
      "Epoch 7/20\n",
      "704/704 [==============================] - 16s 23ms/step - loss: 0.3904 - accuracy: 0.8628 - val_loss: 0.3416 - val_accuracy: 0.8767\n",
      "Epoch 8/20\n",
      "704/704 [==============================] - 16s 23ms/step - loss: 0.3733 - accuracy: 0.8676 - val_loss: 0.3339 - val_accuracy: 0.8788\n",
      "Epoch 9/20\n",
      "704/704 [==============================] - 16s 23ms/step - loss: 0.3623 - accuracy: 0.8730 - val_loss: 0.3239 - val_accuracy: 0.8835\n",
      "Epoch 10/20\n",
      "704/704 [==============================] - 16s 23ms/step - loss: 0.3535 - accuracy: 0.8748 - val_loss: 0.3308 - val_accuracy: 0.8794\n",
      "Epoch 11/20\n",
      "704/704 [==============================] - 16s 23ms/step - loss: 0.3402 - accuracy: 0.8791 - val_loss: 0.3387 - val_accuracy: 0.8738\n",
      "Epoch 12/20\n",
      "704/704 [==============================] - 16s 23ms/step - loss: 0.3348 - accuracy: 0.8811 - val_loss: 0.3159 - val_accuracy: 0.8864\n",
      "Epoch 13/20\n",
      "704/704 [==============================] - 16s 23ms/step - loss: 0.3248 - accuracy: 0.8847 - val_loss: 0.3013 - val_accuracy: 0.8925\n",
      "Epoch 14/20\n",
      "704/704 [==============================] - 16s 23ms/step - loss: 0.3182 - accuracy: 0.8875 - val_loss: 0.2995 - val_accuracy: 0.8921\n",
      "Epoch 15/20\n",
      "704/704 [==============================] - 17s 25ms/step - loss: 0.3133 - accuracy: 0.8896 - val_loss: 0.2987 - val_accuracy: 0.8923\n",
      "Epoch 16/20\n",
      "704/704 [==============================] - 18s 25ms/step - loss: 0.3072 - accuracy: 0.8928 - val_loss: 0.2855 - val_accuracy: 0.8989\n",
      "Epoch 17/20\n",
      "704/704 [==============================] - 17s 24ms/step - loss: 0.3021 - accuracy: 0.8931 - val_loss: 0.2861 - val_accuracy: 0.8977\n",
      "Epoch 18/20\n",
      "704/704 [==============================] - 17s 24ms/step - loss: 0.2940 - accuracy: 0.8964 - val_loss: 0.2795 - val_accuracy: 0.9001\n",
      "Epoch 19/20\n",
      "704/704 [==============================] - 17s 24ms/step - loss: 0.2921 - accuracy: 0.8950 - val_loss: 0.2767 - val_accuracy: 0.9028\n",
      "Epoch 20/20\n",
      "704/704 [==============================] - 17s 24ms/step - loss: 0.2878 - accuracy: 0.8998 - val_loss: 0.2944 - val_accuracy: 0.8944\n"
     ]
    }
   ],
   "source": [
    "\n",
    "history=model.fit(sub_data,sub_label,epochs=20,batch_size=64,\\\n",
    "    validation_data=(val_data,val_label),callbacks=[check_cb,early_cb])\n"
   ]
  },
  {
   "cell_type": "code",
   "execution_count": 34,
   "metadata": {},
   "outputs": [
    {
     "data": {
      "image/png": "[encoded data removed]",
      "text/plain": [
       "<Figure size 432x288 with 1 Axes>"
      ]
     },
     "metadata": {
      "needs_background": "light"
     },
     "output_type": "display_data"
    }
   ],
   "source": [
    "# 그래프 그리기\n",
    "plt.plot(history.history['loss'])\n",
    "plt.plot(history.history['val_loss'])\n",
    "plt.xlabel('epoch')\n",
    "plt.ylabel('loss')\n",
    "plt.legend(['train','test'])\n",
    "plt.show()"
   ]
  },
  {
   "cell_type": "code",
   "execution_count": 35,
   "metadata": {},
   "outputs": [
    {
     "name": "stdout",
     "output_type": "stream",
     "text": [
      "469/469 [==============================] - 2s 4ms/step - loss: 0.2944 - accuracy: 0.8944\n",
      "loss, accuracy :  [0.2943969964981079, 0.8944000005722046]\n"
     ]
    }
   ],
   "source": [
    "# 정확도\n",
    "score= model.evaluate(val_data,val_label)\n",
    "print('loss, accuracy : ', score)\n"
   ]
  },
  {
   "cell_type": "code",
   "execution_count": 36,
   "metadata": {},
   "outputs": [
    {
     "name": "stdout",
     "output_type": "stream",
     "text": [
      "1/1 [==============================] - 0s 71ms/step\n",
      "[[3.28922615e-05 1.04379967e-06 1.82862670e-04 9.74292397e-01\n",
      "  2.44262926e-02 4.05326661e-09 1.05020555e-03 1.77624115e-09\n",
      "  1.42535791e-05 1.35158755e-08]]\n"
     ]
    }
   ],
   "source": [
    "# 예측\n",
    "results=model.predict(val_data[0:1])\n",
    "print(results)"
   ]
  },
  {
   "cell_type": "code",
   "execution_count": 37,
   "metadata": {},
   "outputs": [
    {
     "data": {
      "image/png": "[encoded data removed]",
      "text/plain": [
       "<Figure size 432x288 with 1 Axes>"
      ]
     },
     "metadata": {
      "needs_background": "light"
     },
     "output_type": "display_data"
    }
   ],
   "source": [
    "plt.bar(range(1,11),results[0])\n",
    "plt.show()"
   ]
  },
  {
   "cell_type": "code",
   "execution_count": 38,
   "metadata": {},
   "outputs": [],
   "source": [
    "classes=['티셔츠','바지','스웨터','드레스','코트','샌들','셔츠','스니커즈','가방','앵클부츠']"
   ]
  },
  {
   "cell_type": "code",
   "execution_count": 40,
   "metadata": {},
   "outputs": [
    {
     "data": {
      "text/plain": [
       "'드레스'"
      ]
     },
     "execution_count": 40,
     "metadata": {},
     "output_type": "execute_result"
    }
   ],
   "source": [
    "classes[np.argmax(results)]"
   ]
  },
  {
   "cell_type": "code",
   "execution_count": null,
   "metadata": {},
   "outputs": [],
   "source": []
  }
 ],
 "metadata": {
  "kernelspec": {
   "display_name": "Python 3.10.2 64-bit",
   "language": "python",
   "name": "python3"
  },
  "language_info": {
   "codemirror_mode": {
    "name": "ipython",
    "version": 3
   },
   "file_extension": ".py",
   "mimetype": "text/x-python",
   "name": "python",
   "nbconvert_exporter": "python",
   "pygments_lexer": "ipython3",
   "version": "3.10.2"
  },
  "orig_nbformat": 4,
  "vscode": {
   "interpreter": {
    "hash": "369f2c481f4da34e4445cda3fffd2e751bd1c4d706f27375911949ba6bb62e1c"
   }
  }
 },
 "nbformat": 4,
 "nbformat_minor": 2
}
