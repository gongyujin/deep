{
 "cells": [
  {
   "cell_type": "code",
   "execution_count": 9,
   "metadata": {},
   "outputs": [],
   "source": [
    "from PIL import Image\n",
    "import os\n",
    "import numpy as np"
   ]
  },
  {
   "cell_type": "code",
   "execution_count": 22,
   "metadata": {},
   "outputs": [],
   "source": [
    "with open('tower.jpg','rb') as file:\n",
    "    # Image 함수 호출\n",
    "    img=Image.open(file)    \n",
    "    # 흑백변경 : L, RGB : RGB\n",
    "    img=img.convert('RGB')\n",
    "    # 사이즈 변경\n",
    "    img=img.resize((28,28))\n",
    "    # 숫자배열로 변경\n",
    "    data=np.asarray(img)"
   ]
  },
  {
   "cell_type": "code",
   "execution_count": 23,
   "metadata": {},
   "outputs": [
    {
     "name": "stdout",
     "output_type": "stream",
     "text": [
      "(28, 28, 3)\n"
     ]
    }
   ],
   "source": [
    "print(data.shape) # RGB일때는 (28, 28, 3)으로 깊이가 생김\n",
    "# print(data.shape) # 흑밸일때는 (28, 28)"
   ]
  },
  {
   "cell_type": "code",
   "execution_count": 25,
   "metadata": {},
   "outputs": [
    {
     "data": {
      "text/plain": [
       "array([[[[  2,   3,   8],\n",
       "         [  2,   3,   8],\n",
       "         [  2,   3,   8],\n",
       "         ...,\n",
       "         [  3,   4,   7],\n",
       "         [  2,   4,   8],\n",
       "         [  1,   4,   8]],\n",
       "\n",
       "        [[  3,   4,   9],\n",
       "         [  3,   4,   9],\n",
       "         [  3,   4,   8],\n",
       "         ...,\n",
       "         [  2,   4,   7],\n",
       "         [  2,   4,   8],\n",
       "         [  1,   5,   8]],\n",
       "\n",
       "        [[  3,   4,   9],\n",
       "         [  2,   3,   8],\n",
       "         [  3,   4,   8],\n",
       "         ...,\n",
       "         [  2,   4,   7],\n",
       "         [  2,   5,   8],\n",
       "         [  1,   4,   7]],\n",
       "\n",
       "        ...,\n",
       "\n",
       "        [[ 41,  18,   5],\n",
       "         [ 46,  20,   5],\n",
       "         [ 48,  22,   4],\n",
       "         ...,\n",
       "         [129,  72,   9],\n",
       "         [ 87,  46,   6],\n",
       "         [ 46,  25,   6]],\n",
       "\n",
       "        [[ 76,  38,   5],\n",
       "         [ 82,  41,   6],\n",
       "         [ 58,  27,   6],\n",
       "         ...,\n",
       "         [ 82,  47,   6],\n",
       "         [135,  70,   7],\n",
       "         [ 92,  44,   6]],\n",
       "\n",
       "        [[ 46,  36,  10],\n",
       "         [ 69,  42,   9],\n",
       "         [140,  76,   9],\n",
       "         ...,\n",
       "         [143,  82,   8],\n",
       "         [149,  75,   8],\n",
       "         [174,  86,   5]]]], dtype=uint8)"
      ]
     },
     "execution_count": 25,
     "metadata": {},
     "output_type": "execute_result"
    }
   ],
   "source": [
    "data.reshape(28,28,1)"
   ]
  },
  {
   "cell_type": "code",
   "execution_count": 16,
   "metadata": {},
   "outputs": [
    {
     "name": "stdout",
     "output_type": "stream",
     "text": [
      "28\n"
     ]
    }
   ],
   "source": [
    "print(len(list(data[0])))"
   ]
  },
  {
   "cell_type": "code",
   "execution_count": 15,
   "metadata": {},
   "outputs": [],
   "source": [
    "img.save('test.jpg')"
   ]
  },
  {
   "cell_type": "code",
   "execution_count": null,
   "metadata": {},
   "outputs": [],
   "source": []
  }
 ],
 "metadata": {
  "kernelspec": {
   "display_name": "Python 3.10.2 64-bit",
   "language": "python",
   "name": "python3"
  },
  "language_info": {
   "codemirror_mode": {
    "name": "ipython",
    "version": 3
   },
   "file_extension": ".py",
   "mimetype": "text/x-python",
   "name": "python",
   "nbconvert_exporter": "python",
   "pygments_lexer": "ipython3",
   "version": "3.10.2"
  },
  "orig_nbformat": 4,
  "vscode": {
   "interpreter": {
    "hash": "369f2c481f4da34e4445cda3fffd2e751bd1c4d706f27375911949ba6bb62e1c"
   }
  }
 },
 "nbformat": 4,
 "nbformat_minor": 2
}
